{
    "cells": [
        {
            "cell_type": "code",
            "execution_count": 63,
            "metadata": {},
            "outputs": [],
            "source": [
                "import spectral.io.envi as envi\n",
                "from proj.tasks import send_matrix_to_queue_task, read_image_spectral, clf_RF_1, read_col_data_from_file, load_sklearn_model_to_file, get_full_path\n",
                "import numpy as np\n",
                "import pandas as pd\n",
                "import sqlite3\n",
                "from concurrent.futures import ThreadPoolExecutor, as_completed\n",
                "import os\n",
                "import json\n",
                "from datetime import datetime\n",
                "import time\n",
                "import matplotlib.pyplot as plt\n",
                "import matplotlib as mpl\n",
                "from matplotlib.colors import LinearSegmentedColormap, ListedColormap\n",
                "import numpy as np\n",
                "import matplotlib.pyplot as plt\n",
                "from matplotlib.colors import LinearSegmentedColormap\n",
                "from matplotlib import colormaps\n",
                "import time \n",
                "import dill\n",
                "from torch import nn\n",
                "import torch"
            ]
        },
        {
            "cell_type": "code",
            "execution_count": 64,
            "metadata": {},
            "outputs": [],
            "source": [
                "# Load object file to code\n",
                "def load_sklearn_model_to_file_by_cloudpickle(file_path):\n",
                "    with open(file_path, 'rb') as f:\n",
                "        return dill.load(f)"
            ]
        },
        {
            "cell_type": "code",
            "execution_count": 65,
            "metadata": {},
            "outputs": [],
            "source": [
                "# Read spectral image\n",
                "img = read_image_spectral()"
            ]
        },
        {
            "cell_type": "code",
            "execution_count": 66,
            "metadata": {},
            "outputs": [],
            "source": [
                "# Get \n",
                "NUM_ROW, NUM_COL, NUM_BAND = img.shape\n",
                "BANDS_ZERO = np.zeros((122), dtype=np.uint8)"
            ]
        },
        {
            "cell_type": "code",
            "execution_count": 67,
            "metadata": {},
            "outputs": [
                {
                    "data": {
                        "text/plain": [
                            "6478"
                        ]
                    },
                    "execution_count": 67,
                    "metadata": {},
                    "output_type": "execute_result"
                }
            ],
            "source": [
                "NUM_ROW"
            ]
        },
        {
            "cell_type": "code",
            "execution_count": 68,
            "metadata": {},
            "outputs": [
                {
                    "data": {
                        "text/plain": [
                            "5287"
                        ]
                    },
                    "execution_count": 68,
                    "metadata": {},
                    "output_type": "execute_result"
                }
            ],
            "source": [
                "NUM_COL"
            ]
        },
        {
            "cell_type": "code",
            "execution_count": 69,
            "metadata": {},
            "outputs": [],
            "source": [
                "def col_data(col):\n",
                "    file_path = f\"./data/img_col_data/img_{col}.npz\"\n",
                "    return read_col_data_from_file(file_path)"
            ]
        },
        {
            "cell_type": "code",
            "execution_count": 70,
            "metadata": {},
            "outputs": [],
            "source": [
                "def get_position_of_bands_zero(col_data):\n",
                "    matching_rows = np.where(np.all(col_data == BANDS_ZERO, axis=1))\n",
                "    return matching_rows[0]"
            ]
        },
        {
            "cell_type": "code",
            "execution_count": 71,
            "metadata": {},
            "outputs": [],
            "source": [
                "\n",
                "def predict_target_value_for_img(model, saved_result_path):\n",
                "    if os.path.exists(saved_result_path):\n",
                "        print(f\"File {saved_result_path} already exists.\")\n",
                "        with np.load(saved_result_path) as file:\n",
                "            return file[\"arr_0\"]\n",
                "    \n",
                "    print(f\"File {saved_result_path} NOT exists.\")\n",
                "    target_value = np.zeros((NUM_ROW, NUM_COL))\n",
                "    for col in range(NUM_COL):\n",
                "        if col % 100 == 0:\n",
                "            print(col)\n",
                "        file_path = f\"./data/img_col_data/img_{col}.npz\"\n",
                "        bands = read_col_data_from_file(file_path)\n",
                "        bands_ix = model.bands_ix\n",
                "\n",
                "        if issubclass(type(model), nn.Module):\n",
                "            X_target = bands[:, bands_ix].astype(np.float32)\n",
                "            target_value[:, col] = model.predict(torch.tensor(X_target)).detach().numpy().reshape(X_target.shape[0])\n",
                "        else:\n",
                "            target_value[:, col] = model.predict(bands[:, bands_ix])\n",
                "\n",
                "        band_zeros_position = get_position_of_bands_zero(bands)\n",
                "        target_value[band_zeros_position, col] = 0\n",
                "    np.savez_compressed(saved_result_path, target_value)\n",
                "    return target_value"
            ]
        },
        {
            "cell_type": "code",
            "execution_count": 72,
            "metadata": {},
            "outputs": [],
            "source": [
                "def get_target_matrix(model_file_path, output_file_path):\n",
                "    model = load_sklearn_model_to_file_by_cloudpickle(model_file_path)\n",
                "    if issubclass(type(model), nn.Module):\n",
                "        model.predict = lambda x: model(x)\n",
                "    target_values = predict_target_value_for_img(model, output_file_path)\n",
                "    return target_values\n",
                "    "
            ]
        },
        {
            "cell_type": "code",
            "execution_count": null,
            "metadata": {},
            "outputs": [],
            "source": [
                "list_model_path = [\n",
                "    # r\"D:\\code\\model_saved\\RF_save\\J_predict_P_2024-03-05-23-26-37_using_get_average_bands.pkl\",\n",
                "    # r\"D:\\code\\model_saved\\RF_save\\T_predict_K_2024-03-02-13-32-08_using_get_average_bands.pkl\",\n",
                "    # r\"D:\\code\\model_saved\\DT_save\\J_predict_P_2024-03-05-18-46-25_using_get_average_bands.pkl\",\n",
                "    # r\"D:\\code\\model_saved\\DT_save\\T_predict_K_2024-03-02-13-03-33_using_get_average_bands.pkl\",\n",
                "    r\"D:\\code\\model_saved\\NN_save\\NN_object\\J_predict_P_2024-03-04-22-03-03_using_get_max_bands.pkl\",\n",
                "    # r\"D:\\code\\model_saved\\NN_save\\NN_object\\J_predict_K_2024-03-05-10-33-28_using_get_max_bands.pkl\",\n",
                "]\n",
                "\n",
                "for model_file_path in list_model_path:\n",
                "    file_name = os.path.splitext(os.path.basename(model_file_path))[0]\n",
                "    output_file_path = f\"./data/saved_result/{file_name}_1.npz\"\n",
                "    target_value = get_target_matrix(model_file_path, output_file_path)\n",
                "    print(target_value.shape)"
            ]
        },
        {
            "cell_type": "code",
            "execution_count": null,
            "metadata": {},
            "outputs": [],
            "source": [
                "# tensor([[5885.6289],\n",
                "#         [7505.2896],\n",
                "#         [6279.8838],\n",
                "#         [6624.3481]])"
            ]
        },
        {
            "cell_type": "code",
            "execution_count": 77,
            "metadata": {},
            "outputs": [
                {
                    "data": {
                        "text/plain": [
                            "array([[0., 0., 0., ..., 0., 0., 0.],\n",
                            "       [0., 0., 0., ..., 0., 0., 0.],\n",
                            "       [0., 0., 0., ..., 0., 0., 0.],\n",
                            "       ...,\n",
                            "       [0., 0., 0., ..., 0., 0., 0.],\n",
                            "       [0., 0., 0., ..., 0., 0., 0.],\n",
                            "       [0., 0., 0., ..., 0., 0., 0.]])"
                        ]
                    },
                    "execution_count": 77,
                    "metadata": {},
                    "output_type": "execute_result"
                }
            ],
            "source": [
                "target_value"
            ]
        },
        {
            "cell_type": "code",
            "execution_count": null,
            "metadata": {},
            "outputs": [],
            "source": [
                "# row\tcol\n",
                "# BC2\t3778\t1808\n",
                "# BC3\t4641\t3068\n",
                "# BC4\t3185\t4085\n",
                "# BC5\t2468\t4010"
            ]
        },
        {
            "cell_type": "code",
            "execution_count": 80,
            "metadata": {},
            "outputs": [],
            "source": [
                "BC2 = target_value[3778, 1808]\n",
                "BC3 = target_value[4641, 3068]\n",
                "BC4 = target_value[3185, 4085]\n",
                "BC5 = target_value[2468, 4010]"
            ]
        },
        {
            "cell_type": "code",
            "execution_count": 81,
            "metadata": {},
            "outputs": [
                {
                    "data": {
                        "text/plain": [
                            "(15594.82421875, 5862.5341796875, 5531.50830078125, 2353.9033203125)"
                        ]
                    },
                    "execution_count": 81,
                    "metadata": {},
                    "output_type": "execute_result"
                }
            ],
            "source": [
                "BC2, BC3, BC4, BC5"
            ]
        },
        {
            "cell_type": "code",
            "execution_count": null,
            "metadata": {},
            "outputs": [],
            "source": []
        },
        {
            "cell_type": "code",
            "execution_count": 74,
            "metadata": {},
            "outputs": [],
            "source": [
                "model = load_sklearn_model_to_file_by_cloudpickle(r\"D:\\code\\model_saved\\NN_save\\NN_object\\J_predict_P_2024-03-04-22-03-03_using_get_max_bands.pkl\")"
            ]
        },
        {
            "cell_type": "code",
            "execution_count": 75,
            "metadata": {},
            "outputs": [
                {
                    "data": {
                        "text/plain": [
                            "NeutralNetwork(\n",
                            "  (linear_relu_stack): Sequential(\n",
                            "    (0): Linear(in_features=48, out_features=100, bias=True)\n",
                            "    (1): ReLU()\n",
                            "    (2): Linear(in_features=100, out_features=100, bias=True)\n",
                            "    (3): ReLU()\n",
                            "    (4): Linear(in_features=100, out_features=100, bias=True)\n",
                            "    (5): ReLU()\n",
                            "    (6): Linear(in_features=100, out_features=100, bias=True)\n",
                            "    (7): ReLU()\n",
                            "    (8): Linear(in_features=100, out_features=100, bias=True)\n",
                            "    (9): ReLU()\n",
                            "    (10): Linear(in_features=100, out_features=100, bias=True)\n",
                            "    (11): ReLU()\n",
                            "    (12): Linear(in_features=100, out_features=100, bias=True)\n",
                            "    (13): ReLU()\n",
                            "    (14): Linear(in_features=100, out_features=100, bias=True)\n",
                            "    (15): ReLU()\n",
                            "    (16): Linear(in_features=100, out_features=1, bias=True)\n",
                            "  )\n",
                            ")"
                        ]
                    },
                    "execution_count": 75,
                    "metadata": {},
                    "output_type": "execute_result"
                }
            ],
            "source": [
                "model"
            ]
        },
        {
            "cell_type": "code",
            "execution_count": null,
            "metadata": {},
            "outputs": [],
            "source": []
        }
    ],
    "metadata": {
        "kernelspec": {
            "display_name": "venv",
            "language": "python",
            "name": "python3"
        },
        "language_info": {
            "codemirror_mode": {
                "name": "ipython",
                "version": 3
            },
            "file_extension": ".py",
            "mimetype": "text/x-python",
            "name": "python",
            "nbconvert_exporter": "python",
            "pygments_lexer": "ipython3",
            "version": "3.11.5"
        }
    },
    "nbformat": 4,
    "nbformat_minor": 2
}
