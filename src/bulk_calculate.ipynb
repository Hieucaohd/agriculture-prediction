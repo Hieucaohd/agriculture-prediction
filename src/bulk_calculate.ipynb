{
    "cells": [
        {
            "cell_type": "code",
            "execution_count": 43,
            "metadata": {},
            "outputs": [],
            "source": [
                "import spectral.io.envi as envi\n",
                "from proj.tasks import send_matrix_to_queue_task, read_image_spectral, clf_RF_1, read_col_data_from_file, load_sklearn_model_to_file, get_full_path\n",
                "import numpy as np\n",
                "import pandas as pd\n",
                "import sqlite3\n",
                "from concurrent.futures import ThreadPoolExecutor, as_completed\n",
                "import os\n",
                "import json\n",
                "from datetime import datetime\n",
                "import time\n",
                "import matplotlib.pyplot as plt\n",
                "import matplotlib as mpl\n",
                "from matplotlib.colors import LinearSegmentedColormap, ListedColormap\n",
                "import numpy as np\n",
                "import matplotlib.pyplot as plt\n",
                "from matplotlib.colors import LinearSegmentedColormap\n",
                "from matplotlib import colormaps\n",
                "import time \n",
                "import dill"
            ]
        },
        {
            "cell_type": "code",
            "execution_count": 44,
            "metadata": {},
            "outputs": [],
            "source": [
                "# Load object file to code\n",
                "def load_sklearn_model_to_file_by_cloudpickle(file_path):\n",
                "    with open(file_path, 'rb') as f:\n",
                "        return dill.load(f)"
            ]
        },
        {
            "cell_type": "code",
            "execution_count": 45,
            "metadata": {},
            "outputs": [],
            "source": [
                "# Load sk-learn model\n",
                "model = load_sklearn_model_to_file_by_cloudpickle(get_full_path(\"../../model_saved/DT_save/J_model_predict_K_DT_24_02_2024_cloudpickle.pkl\"))"
            ]
        },
        {
            "cell_type": "code",
            "execution_count": 46,
            "metadata": {},
            "outputs": [],
            "source": [
                "# Read spectral image\n",
                "img = read_image_spectral()"
            ]
        },
        {
            "cell_type": "code",
            "execution_count": 47,
            "metadata": {},
            "outputs": [],
            "source": [
                "# Get \n",
                "NUM_ROW, NUM_COL, NUM_BAND = img.shape\n",
                "BANDS_ZERO = np.zeros((122), dtype=np.uint8)"
            ]
        },
        {
            "cell_type": "code",
            "execution_count": 48,
            "metadata": {},
            "outputs": [
                {
                    "data": {
                        "text/plain": [
                            "6478"
                        ]
                    },
                    "execution_count": 48,
                    "metadata": {},
                    "output_type": "execute_result"
                }
            ],
            "source": [
                "NUM_ROW"
            ]
        },
        {
            "cell_type": "code",
            "execution_count": 49,
            "metadata": {},
            "outputs": [
                {
                    "data": {
                        "text/plain": [
                            "5287"
                        ]
                    },
                    "execution_count": 49,
                    "metadata": {},
                    "output_type": "execute_result"
                }
            ],
            "source": [
                "NUM_COL"
            ]
        },
        {
            "cell_type": "code",
            "execution_count": 50,
            "metadata": {},
            "outputs": [],
            "source": [
                "def col_data(col):\n",
                "    file_path = f\"./data/img_col_data/img_{col}.npz\"\n",
                "    return read_col_data_from_file(file_path)"
            ]
        },
        {
            "cell_type": "code",
            "execution_count": 51,
            "metadata": {},
            "outputs": [],
            "source": [
                "def get_position_of_bands_zero(col_data):\n",
                "    matching_rows = np.where(np.all(col_data == BANDS_ZERO, axis=1))\n",
                "    return matching_rows[0]"
            ]
        },
        {
            "cell_type": "code",
            "execution_count": 52,
            "metadata": {},
            "outputs": [],
            "source": [
                "\n",
                "def predict_target_value_for_img(saved_result_path):\n",
                "    if os.path.exists(saved_result_path):\n",
                "        print(f\"File {saved_result_path} already exists.\")\n",
                "        with np.load(saved_result_path) as file:\n",
                "            return file[\"arr_0\"]\n",
                "    \n",
                "    print(f\"File {saved_result_path} NOT exists.\")\n",
                "    target_value = np.zeros((NUM_ROW, NUM_COL))\n",
                "    for col in range(NUM_COL):\n",
                "        if col % 100 == 0:\n",
                "            print(col)\n",
                "        file_path = f\"./data/img_col_data/img_{col}.npz\"\n",
                "        bands = read_col_data_from_file(file_path)\n",
                "        bands_ix = model.bands_ix\n",
                "        target_value[:, col] = model.predict(bands[:, bands_ix])\n",
                "        band_zeros_position = get_position_of_bands_zero(bands)\n",
                "        target_value[band_zeros_position, col] = 0\n",
                "    np.savez_compressed(saved_result_path, target_value)\n",
                "    return target_value"
            ]
        },
        {
            "cell_type": "code",
            "execution_count": 53,
            "metadata": {},
            "outputs": [
                {
                    "name": "stdout",
                    "output_type": "stream",
                    "text": [
                        "File ./data/saved_result/J_model_predict_K_DT_24_02_2024.npz NOT exists.\n",
                        "0\n",
                        "100\n",
                        "200\n",
                        "300\n",
                        "400\n",
                        "500\n",
                        "600\n",
                        "700\n",
                        "800\n",
                        "900\n",
                        "1000\n",
                        "1100\n",
                        "1200\n",
                        "1300\n",
                        "1400\n",
                        "1500\n",
                        "1600\n",
                        "1700\n",
                        "1800\n",
                        "1900\n",
                        "2000\n",
                        "2100\n",
                        "2200\n",
                        "2300\n",
                        "2400\n",
                        "2500\n",
                        "2600\n",
                        "2700\n",
                        "2800\n",
                        "2900\n",
                        "3000\n",
                        "3100\n",
                        "3200\n",
                        "3300\n",
                        "3400\n",
                        "3500\n",
                        "3600\n",
                        "3700\n",
                        "3800\n",
                        "3900\n",
                        "4000\n",
                        "4100\n",
                        "4200\n",
                        "4300\n",
                        "4400\n",
                        "4500\n",
                        "4600\n",
                        "4700\n",
                        "4800\n",
                        "4900\n",
                        "5000\n",
                        "5100\n",
                        "5200\n"
                    ]
                }
            ],
            "source": [
                "target_values = predict_target_value_for_img(\"./data/saved_result/J_model_predict_K_DT_24_02_2024.npz\")"
            ]
        },
        {
            "cell_type": "code",
            "execution_count": 54,
            "metadata": {},
            "outputs": [
                {
                    "data": {
                        "text/plain": [
                            "(6478, 5287)"
                        ]
                    },
                    "execution_count": 54,
                    "metadata": {},
                    "output_type": "execute_result"
                }
            ],
            "source": [
                "target_values.shape"
            ]
        },
        {
            "cell_type": "code",
            "execution_count": null,
            "metadata": {},
            "outputs": [],
            "source": []
        }
    ],
    "metadata": {
        "kernelspec": {
            "display_name": "venv",
            "language": "python",
            "name": "python3"
        },
        "language_info": {
            "codemirror_mode": {
                "name": "ipython",
                "version": 3
            },
            "file_extension": ".py",
            "mimetype": "text/x-python",
            "name": "python",
            "nbconvert_exporter": "python",
            "pygments_lexer": "ipython3",
            "version": "3.9.7"
        }
    },
    "nbformat": 4,
    "nbformat_minor": 2
}
