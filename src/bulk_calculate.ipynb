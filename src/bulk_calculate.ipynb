{
 "cells": [
  {
   "cell_type": "code",
   "execution_count": 19,
   "metadata": {},
   "outputs": [],
   "source": [
    "import spectral.io.envi as envi\n",
    "from proj.tasks import send_matrix_to_queue_task, read_image_spectral, clf_RF_1\n",
    "import numpy as np\n",
    "import sqlite3\n",
    "from concurrent.futures import ThreadPoolExecutor, as_completed\n",
    "import os\n",
    "import json\n",
    "from datetime import datetime\n",
    "import time"
   ]
  },
  {
   "cell_type": "code",
   "execution_count": 20,
   "metadata": {},
   "outputs": [],
   "source": [
    "img = read_image_spectral()"
   ]
  },
  {
   "cell_type": "code",
   "execution_count": 21,
   "metadata": {},
   "outputs": [
    {
     "data": {
      "text/plain": [
       "\tData Source:   '/home/ubuntu/code/agriculture-prediction/data/spectral_image/hyper_20220913_3cm.img'\n",
       "\t# Rows:           6478\n",
       "\t# Samples:        5287\n",
       "\t# Bands:           122\n",
       "\tInterleave:        BSQ\n",
       "\tQuantization:   8 bits\n",
       "\tData format:     uint8"
      ]
     },
     "execution_count": 21,
     "metadata": {},
     "output_type": "execute_result"
    }
   ],
   "source": [
    "img"
   ]
  },
  {
   "cell_type": "code",
   "execution_count": 22,
   "metadata": {},
   "outputs": [],
   "source": [
    "num_row, num_col, num_band = img.shape"
   ]
  },
  {
   "cell_type": "code",
   "execution_count": 23,
   "metadata": {},
   "outputs": [],
   "source": [
    "nitos = np.zeros((num_row, num_col))"
   ]
  },
  {
   "cell_type": "code",
   "execution_count": 24,
   "metadata": {},
   "outputs": [
    {
     "name": "stdout",
     "output_type": "stream",
     "text": [
      "0\n"
     ]
    },
    {
     "ename": "KeyboardInterrupt",
     "evalue": "",
     "output_type": "error",
     "traceback": [
      "\u001b[0;31m---------------------------------------------------------------------------\u001b[0m",
      "\u001b[0;31mKeyboardInterrupt\u001b[0m                         Traceback (most recent call last)",
      "Cell \u001b[0;32mIn[24], line 4\u001b[0m\n\u001b[1;32m      2\u001b[0m \u001b[38;5;28;01mif\u001b[39;00m col \u001b[38;5;241m%\u001b[39m \u001b[38;5;241m100\u001b[39m \u001b[38;5;241m==\u001b[39m \u001b[38;5;241m0\u001b[39m:\n\u001b[1;32m      3\u001b[0m     \u001b[38;5;28mprint\u001b[39m(col)\n\u001b[0;32m----> 4\u001b[0m bands \u001b[38;5;241m=\u001b[39m \u001b[43mimg\u001b[49m\u001b[43m[\u001b[49m\u001b[43m:\u001b[49m\u001b[43m,\u001b[49m\u001b[43m \u001b[49m\u001b[43mcol\u001b[49m\u001b[43m,\u001b[49m\u001b[43m \u001b[49m\u001b[43m:\u001b[49m\u001b[43m]\u001b[49m\u001b[38;5;241m.\u001b[39mreshape(num_row, num_band)\n\u001b[1;32m      5\u001b[0m nitos[:, col] \u001b[38;5;241m=\u001b[39m clf_RF_1\u001b[38;5;241m.\u001b[39mpredict(bands)\n",
      "File \u001b[0;32m~/code/agriculture-prediction/venv/lib/python3.10/site-packages/spectral/io/spyfile.py:342\u001b[0m, in \u001b[0;36mSpyFile.__getitem__\u001b[0;34m(self, args)\u001b[0m\n\u001b[1;32m    340\u001b[0m cols \u001b[38;5;241m=\u001b[39m fix_negative_indices(cols, \u001b[38;5;241m1\u001b[39m)\n\u001b[1;32m    341\u001b[0m bands \u001b[38;5;241m=\u001b[39m fix_negative_indices(bands, \u001b[38;5;241m2\u001b[39m)\n\u001b[0;32m--> 342\u001b[0m \u001b[38;5;28;01mreturn\u001b[39;00m \u001b[38;5;28;43mself\u001b[39;49m\u001b[38;5;241;43m.\u001b[39;49m\u001b[43mread_subimage\u001b[49m\u001b[43m(\u001b[49m\u001b[43mrows\u001b[49m\u001b[43m,\u001b[49m\u001b[43m \u001b[49m\u001b[43mcols\u001b[49m\u001b[43m,\u001b[49m\u001b[43m \u001b[49m\u001b[43mbands\u001b[49m\u001b[43m)\u001b[49m\n",
      "File \u001b[0;32m~/code/agriculture-prediction/venv/lib/python3.10/site-packages/spectral/io/bsqfile.py:359\u001b[0m, in \u001b[0;36mBsqFile.read_subimage\u001b[0;34m(self, rows, cols, bands, use_memmap)\u001b[0m\n\u001b[1;32m    355\u001b[0m         \u001b[38;5;28;01mfor\u001b[39;00m k \u001b[38;5;129;01min\u001b[39;00m cols:\n\u001b[1;32m    356\u001b[0m             f\u001b[38;5;241m.\u001b[39mseek(bandOffset\n\u001b[1;32m    357\u001b[0m                    \u001b[38;5;241m+\u001b[39m rowOffset\n\u001b[1;32m    358\u001b[0m                    \u001b[38;5;241m+\u001b[39m k \u001b[38;5;241m*\u001b[39m sampleSize, \u001b[38;5;241m0\u001b[39m)\n\u001b[0;32m--> 359\u001b[0m             \u001b[43mvals\u001b[49m\u001b[38;5;241;43m.\u001b[39;49m\u001b[43mfromfile\u001b[49m\u001b[43m(\u001b[49m\u001b[43mf\u001b[49m\u001b[43m,\u001b[49m\u001b[43m \u001b[49m\u001b[43msampleSize\u001b[49m\u001b[43m)\u001b[49m\n\u001b[1;32m    360\u001b[0m arr \u001b[38;5;241m=\u001b[39m np\u001b[38;5;241m.\u001b[39mfrombuffer(tobytes(vals), dtype\u001b[38;5;241m=\u001b[39m\u001b[38;5;28mself\u001b[39m\u001b[38;5;241m.\u001b[39mdtype)\n\u001b[1;32m    361\u001b[0m arr \u001b[38;5;241m=\u001b[39m arr\u001b[38;5;241m.\u001b[39mreshape(nSubBands, nSubRows, nSubCols)\n",
      "\u001b[0;31mKeyboardInterrupt\u001b[0m: "
     ]
    }
   ],
   "source": [
    "for col in range(num_col):\n",
    "    if col % 100 == 0:\n",
    "        print(col)\n",
    "    bands = img[:, col, :].reshape(num_row, num_band)\n",
    "    nitos[:, col] = clf_RF_1.predict(bands)"
   ]
  },
  {
   "cell_type": "code",
   "execution_count": null,
   "metadata": {},
   "outputs": [],
   "source": []
  }
 ],
 "metadata": {
  "kernelspec": {
   "display_name": "venv",
   "language": "python",
   "name": "python3"
  },
  "language_info": {
   "codemirror_mode": {
    "name": "ipython",
    "version": 3
   },
   "file_extension": ".py",
   "mimetype": "text/x-python",
   "name": "python",
   "nbconvert_exporter": "python",
   "pygments_lexer": "ipython3",
   "version": "3.10.12"
  }
 },
 "nbformat": 4,
 "nbformat_minor": 2
}
