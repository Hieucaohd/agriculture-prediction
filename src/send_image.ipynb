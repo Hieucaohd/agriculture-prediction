{
 "cells": [
  {
   "cell_type": "code",
   "execution_count": 2,
   "metadata": {},
   "outputs": [],
   "source": [
    "import spectral.io.envi as envi\n",
    "from proj.tasks import send_matrix_to_queue_task, create_sqlite3_conn_pool, NUM_PARTITION\n",
    "import numpy as np\n",
    "import sqlite3\n",
    "from concurrent.futures import ThreadPoolExecutor, as_completed\n",
    "import os\n",
    "import json\n",
    "from datetime import datetime\n",
    "import time"
   ]
  },
  {
   "cell_type": "code",
   "execution_count": 2,
   "metadata": {},
   "outputs": [],
   "source": [
    "def read_image_spectral():\n",
    "    return envi.open(\n",
    "        \"/home/ubuntu/code/agriculture-prediction/data/spectral_image/hyper_20220913_3cm.hdr\", \n",
    "        \"/home/ubuntu/code/agriculture-prediction/data/spectral_image/hyper_20220913_3cm.img\"\n",
    "    )"
   ]
  },
  {
   "cell_type": "code",
   "execution_count": 3,
   "metadata": {},
   "outputs": [],
   "source": [
    "img = read_image_spectral()"
   ]
  },
  {
   "cell_type": "code",
   "execution_count": 4,
   "metadata": {},
   "outputs": [],
   "source": [
    "NUM_ROW, NUM_COL, NUM_BAND = img.shape "
   ]
  },
  {
   "cell_type": "code",
   "execution_count": 5,
   "metadata": {},
   "outputs": [
    {
     "data": {
      "text/plain": [
       "6478"
      ]
     },
     "execution_count": 5,
     "metadata": {},
     "output_type": "execute_result"
    }
   ],
   "source": [
    "NUM_ROW"
   ]
  },
  {
   "cell_type": "code",
   "execution_count": 6,
   "metadata": {},
   "outputs": [
    {
     "data": {
      "text/plain": [
       "5287"
      ]
     },
     "execution_count": 6,
     "metadata": {},
     "output_type": "execute_result"
    }
   ],
   "source": [
    "NUM_COL"
   ]
  },
  {
   "cell_type": "code",
   "execution_count": 7,
   "metadata": {},
   "outputs": [],
   "source": [
    "RUN_ID = 10\n",
    "TIME_RUN = datetime.now().strftime(\"%Y-%m-%d-%H-%M-%S\")\n",
    "CHUNK_READ_ROW = NUM_ROW\n",
    "CHUNK_READ_COLUMN = 1000"
   ]
  },
  {
   "cell_type": "code",
   "execution_count": 8,
   "metadata": {},
   "outputs": [],
   "source": [
    "def get_start_end_col(checkpoint_path, chunk):\n",
    "    if not os.path.exists(checkpoint_path):\n",
    "        start_col = 0\n",
    "        end_col = start_col + chunk\n",
    "    else:\n",
    "        with open(checkpoint_path, \"r\") as f:\n",
    "            checkpoint_data = json.load(f)\n",
    "            last_end_col = checkpoint_data.get(\"end_col\", 0)\n",
    "            \n",
    "            start_col = last_end_col\n",
    "            end_col = min(NUM_COL, start_col + chunk)\n",
    "    \n",
    "    if start_col == NUM_COL:\n",
    "        raise Exception(\"Already processed all columns\")\n",
    "    \n",
    "    return start_col, end_col\n"
   ]
  },
  {
   "cell_type": "code",
   "execution_count": 9,
   "metadata": {},
   "outputs": [],
   "source": [
    "def save_checkpoint(checkpoint_path, start_col, end_col):\n",
    "    with open(checkpoint_path, \"w\") as f:\n",
    "        checkpoint_data = {\n",
    "            \"start_col\": start_col,\n",
    "            \"end_col\": end_col\n",
    "        }\n",
    "        json.dump(checkpoint_data, f, indent=4)"
   ]
  },
  {
   "cell_type": "code",
   "execution_count": 10,
   "metadata": {},
   "outputs": [],
   "source": [
    "CHECKPOINT_PATH = './checkpoint/checkpoint_run_nito_0.json'"
   ]
  },
  {
   "cell_type": "code",
   "execution_count": 11,
   "metadata": {},
   "outputs": [],
   "source": [
    "start_col, end_col = get_start_end_col(CHECKPOINT_PATH, CHUNK_READ_COLUMN)"
   ]
  },
  {
   "cell_type": "code",
   "execution_count": 12,
   "metadata": {},
   "outputs": [
    {
     "data": {
      "text/plain": [
       "5000"
      ]
     },
     "execution_count": 12,
     "metadata": {},
     "output_type": "execute_result"
    }
   ],
   "source": [
    "start_col"
   ]
  },
  {
   "cell_type": "code",
   "execution_count": 13,
   "metadata": {},
   "outputs": [
    {
     "data": {
      "text/plain": [
       "5287"
      ]
     },
     "execution_count": 13,
     "metadata": {},
     "output_type": "execute_result"
    }
   ],
   "source": [
    "end_col"
   ]
  },
  {
   "cell_type": "code",
   "execution_count": 14,
   "metadata": {},
   "outputs": [
    {
     "name": "stdout",
     "output_type": "stream",
     "text": [
      "Because start_col = 5000 > 0, dont drop table nito_9\n"
     ]
    }
   ],
   "source": [
    "\n",
    "table_name = f\"nito_{RUN_ID}\"\n",
    "if start_col == 0:\n",
    "    sqlite3_conn_pool = create_sqlite3_conn_pool(NUM_PARTITION)\n",
    "    for partition in range(NUM_PARTITION):\n",
    "        # Connect to the SQLite database\n",
    "        conn = sqlite3_conn_pool[partition]\n",
    "\n",
    "        # Create a cursor object to execute SQL commands\n",
    "        cursor = conn.cursor()\n",
    "\n",
    "        # Execute the SQL command to drop the table\n",
    "        cursor.execute(f\"DROP TABLE IF EXISTS {table_name};\")\n",
    "\n",
    "        # Commit the transaction\n",
    "        conn.commit()\n",
    "\n",
    "        conn.close()\n",
    "    \n",
    "        print(f\"Sucess drop table {table_name}\")\n",
    "else:\n",
    "    print(f\"Because start_col = {start_col} > 0, dont drop table {table_name}\")"
   ]
  },
  {
   "cell_type": "code",
   "execution_count": 15,
   "metadata": {},
   "outputs": [
    {
     "name": "stdout",
     "output_type": "stream",
     "text": [
      "col = 5000\n",
      "col = 5100\n"
     ]
    },
    {
     "name": "stdout",
     "output_type": "stream",
     "text": [
      "col = 5200\n"
     ]
    }
   ],
   "source": [
    "for col in range(start_col, end_col):\n",
    "    if col % 100 == 0:\n",
    "        print(f\"col = {col}\")\n",
    "    send_matrix_to_queue_task.delay(RUN_ID, col, CHUNK_READ_ROW)"
   ]
  },
  {
   "cell_type": "code",
   "execution_count": 16,
   "metadata": {},
   "outputs": [],
   "source": [
    "save_checkpoint(CHECKPOINT_PATH, start_col, end_col)"
   ]
  }
 ],
 "metadata": {
  "kernelspec": {
   "display_name": "venv",
   "language": "python",
   "name": "python3"
  },
  "language_info": {
   "codemirror_mode": {
    "name": "ipython",
    "version": 3
   },
   "file_extension": ".py",
   "mimetype": "text/x-python",
   "name": "python",
   "nbconvert_exporter": "python",
   "pygments_lexer": "ipython3",
   "version": "3.10.12"
  }
 },
 "nbformat": 4,
 "nbformat_minor": 2
}
