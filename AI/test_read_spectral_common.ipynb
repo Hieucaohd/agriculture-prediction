{
 "cells": [
  {
   "cell_type": "code",
   "execution_count": 561,
   "metadata": {},
   "outputs": [],
   "source": [
    "\n",
    "from common.read_spectral_common import (\n",
    "    data_df_13_09_2022, \n",
    "    calculate_mutual_info_for_all, \n",
    "    generate_sample, create_X_train_Y_train, \n",
    "    mutual_info_regression, \n",
    "    get_max_bands, \n",
    "    get_bands_ix_from_mutual_info, \n",
    "    get_average_bands, \n",
    "    get_max_bands, \n",
    "    get_min_bands,\n",
    "    predict_using_neutral_network, \n",
    "    predict_using_random_forest, \n",
    "    predict_using_decision_tree,\n",
    "    get_full_path\n",
    ")\n",
    "import matplotlib.pyplot as plt\n",
    "import pickle\n",
    "import cloudpickle\n",
    "import common\n",
    "from sklearn import tree\n",
    "from sklearn.metrics import mean_squared_error\n",
    "import numpy as np\n",
    "from datetime import datetime"
   ]
  },
  {
   "cell_type": "code",
   "execution_count": 562,
   "metadata": {},
   "outputs": [],
   "source": [
    "target_value = \"K\"\n",
    "train_field = \"J\"\n",
    "function_get = get_min_bands"
   ]
  },
  {
   "cell_type": "code",
   "execution_count": 563,
   "metadata": {},
   "outputs": [
    {
     "data": {
      "text/plain": [
       "[(95, 0.3688257039953742),\n",
       " (88, 0.29264949390372275),\n",
       " (28, 0.25055449189842705),\n",
       " (79, 0.24017540446825558),\n",
       " (41, 0.2023919235031495),\n",
       " (93, 0.20031068770075278),\n",
       " (107, 0.18689894820892272),\n",
       " (43, 0.1743737023754468),\n",
       " (108, 0.1670829649542478),\n",
       " (120, 0.1639961441547313),\n",
       " (87, 0.15693659342366528),\n",
       " (35, 0.15534485985360869),\n",
       " (90, 0.1549532095307744),\n",
       " (86, 0.1521470136381411),\n",
       " (58, 0.14568612217622356),\n",
       " (69, 0.13775497079043042),\n",
       " (67, 0.12682324501801956),\n",
       " (66, 0.1251597902330861),\n",
       " (33, 0.12429978570253919),\n",
       " (81, 0.12289143117938073),\n",
       " (31, 0.12099570427626238),\n",
       " (27, 0.12011406356338616),\n",
       " (48, 0.11706052679796164),\n",
       " (61, 0.11667336363842828),\n",
       " (26, 0.1134956172101882),\n",
       " (57, 0.11057250396576945),\n",
       " (78, 0.10498609407733284),\n",
       " (113, 0.1024974947137336),\n",
       " (42, 0.09472159304593353),\n",
       " (52, 0.09077707628380827),\n",
       " (83, 0.09016043895083925),\n",
       " (92, 0.0896116344320399),\n",
       " (71, 0.08746522884141372),\n",
       " (80, 0.08588997947204602),\n",
       " (103, 0.07982986527527114),\n",
       " (5, 0.07686219803984917),\n",
       " (111, 0.07530861945500522),\n",
       " (49, 0.07337877501598689),\n",
       " (105, 0.07020264145951138),\n",
       " (82, 0.07007821770440259),\n",
       " (109, 0.06974442406934855),\n",
       " (56, 0.06966586265225327),\n",
       " (91, 0.06872490950119747),\n",
       " (55, 0.0656230647310363),\n",
       " (84, 0.0654674508387334),\n",
       " (29, 0.06347792071172043),\n",
       " (75, 0.06285771497384252),\n",
       " (39, 0.061487548803491165),\n",
       " (99, 0.06061868316580421),\n",
       " (97, 0.059900756808551225),\n",
       " (102, 0.0579159988293485),\n",
       " (116, 0.05779009811109037),\n",
       " (18, 0.05756210694306296),\n",
       " (20, 0.056892446227170046),\n",
       " (0, 0.052613243499589846),\n",
       " (114, 0.04802319915076447),\n",
       " (100, 0.0461807837290964),\n",
       " (96, 0.04584136415378115),\n",
       " (59, 0.037969551290346404),\n",
       " (85, 0.03781680789682351),\n",
       " (94, 0.036226196794149956),\n",
       " (70, 0.03603343938020798),\n",
       " (19, 0.0349452372622201),\n",
       " (76, 0.03488269200642602),\n",
       " (104, 0.034392615977727026),\n",
       " (73, 0.031755930423782),\n",
       " (77, 0.031663255082487574),\n",
       " (22, 0.024833155095137505),\n",
       " (64, 0.02347266737801057),\n",
       " (40, 0.022295868000846486),\n",
       " (2, 0.01994895567309496),\n",
       " (25, 0.019723807939621807),\n",
       " (47, 0.01837924393125867),\n",
       " (115, 0.017933466147598942),\n",
       " (38, 0.015964726464487544),\n",
       " (60, 0.015001780413870236),\n",
       " (118, 0.010078974439936328),\n",
       " (14, 0.009259259259258634),\n",
       " (11, 0.009259259259258412),\n",
       " (15, 0.009259259259258412),\n",
       " (72, 0.007816268735500564),\n",
       " (30, 0.00781587978022813),\n",
       " (74, 0.007160221575622128),\n",
       " (51, 0.001093755363246629),\n",
       " (1, 0.0),\n",
       " (3, 0.0),\n",
       " (4, 0.0),\n",
       " (6, 0.0),\n",
       " (7, 0.0),\n",
       " (8, 0.0),\n",
       " (9, 0.0),\n",
       " (10, 0.0),\n",
       " (12, 0.0),\n",
       " (13, 0.0),\n",
       " (16, 0.0),\n",
       " (17, 0.0),\n",
       " (21, 0.0),\n",
       " (23, 0.0),\n",
       " (24, 0.0),\n",
       " (32, 0.0),\n",
       " (34, 0.0),\n",
       " (36, 0.0),\n",
       " (37, 0.0),\n",
       " (44, 0.0),\n",
       " (45, 0.0),\n",
       " (46, 0.0),\n",
       " (50, 0.0),\n",
       " (53, 0.0),\n",
       " (54, 0.0),\n",
       " (62, 0.0),\n",
       " (63, 0.0),\n",
       " (65, 0.0),\n",
       " (68, 0.0),\n",
       " (89, 0.0),\n",
       " (98, 0.0),\n",
       " (101, 0.0),\n",
       " (106, 0.0),\n",
       " (110, 0.0),\n",
       " (112, 0.0),\n",
       " (117, 0.0),\n",
       " (119, 0.0),\n",
       " (121, 0.0)]"
      ]
     },
     "execution_count": 563,
     "metadata": {},
     "output_type": "execute_result"
    }
   ],
   "source": [
    "calculate_mutual_info_for_all(data_df_13_09_2022, target_value, train_field, function_get)"
   ]
  },
  {
   "cell_type": "code",
   "execution_count": 564,
   "metadata": {},
   "outputs": [],
   "source": [
    "bands_ix = get_bands_ix_from_mutual_info(data_df_13_09_2022, 0.1, target_value, train_field, function_get)"
   ]
  },
  {
   "cell_type": "code",
   "execution_count": 565,
   "metadata": {},
   "outputs": [
    {
     "data": {
      "text/plain": [
       "28"
      ]
     },
     "execution_count": 565,
     "metadata": {},
     "output_type": "execute_result"
    }
   ],
   "source": [
    "len(bands_ix)"
   ]
  },
  {
   "cell_type": "code",
   "execution_count": 566,
   "metadata": {},
   "outputs": [],
   "source": [
    "bands_ix = filter(lambda data: data < 100, bands_ix)"
   ]
  },
  {
   "cell_type": "code",
   "execution_count": 567,
   "metadata": {},
   "outputs": [],
   "source": [
    "bands_ix = list(bands_ix)"
   ]
  },
  {
   "cell_type": "code",
   "execution_count": 568,
   "metadata": {},
   "outputs": [
    {
     "data": {
      "text/plain": [
       "[26,\n",
       " 27,\n",
       " 28,\n",
       " 31,\n",
       " 33,\n",
       " 35,\n",
       " 41,\n",
       " 43,\n",
       " 48,\n",
       " 57,\n",
       " 58,\n",
       " 61,\n",
       " 66,\n",
       " 67,\n",
       " 69,\n",
       " 78,\n",
       " 79,\n",
       " 81,\n",
       " 86,\n",
       " 87,\n",
       " 88,\n",
       " 90,\n",
       " 93,\n",
       " 95]"
      ]
     },
     "execution_count": 568,
     "metadata": {},
     "output_type": "execute_result"
    }
   ],
   "source": [
    "bands_ix"
   ]
  },
  {
   "cell_type": "code",
   "execution_count": 569,
   "metadata": {},
   "outputs": [
    {
     "data": {
      "text/plain": [
       "24"
      ]
     },
     "execution_count": 569,
     "metadata": {},
     "output_type": "execute_result"
    }
   ],
   "source": [
    "len(bands_ix)"
   ]
  },
  {
   "cell_type": "code",
   "execution_count": 573,
   "metadata": {},
   "outputs": [
    {
     "name": "stdout",
     "output_type": "stream",
     "text": [
      "loss_RF=4845.83420908758\n",
      "pred_RF=array([15201.66283203, 16210.42082031, 17492.31072266, 16148.9052832 ])\n",
      "loss_DT=5623.96417405234\n",
      "pred_DT=array([13696.04296875, 18897.9140625 , 18897.9140625 , 16422.01757812])\n"
     ]
    }
   ],
   "source": [
    "\n",
    "sample = generate_sample(data_df_13_09_2022, bands_ix, target_value, train_field)\n",
    "X_train, Y_train = create_X_train_Y_train(sample, bands_ix)\n",
    "sample_target = generate_sample(data_df_13_09_2022, bands_ix, target_value, \"BC\")\n",
    "X_target, Y_target = create_X_train_Y_train(sample_target, bands_ix)\n",
    "super_param={\"lr\": 0.0001, \"weight_decay\": 1e-5, \"n_epochs\": 40000, \"stop_value\": 0.5}\n",
    "re_run = \"N\"\n",
    "loss_NN, pred_NN = predict_using_neutral_network(\n",
    "    X_train, \n",
    "    Y_train, \n",
    "    X_target, \n",
    "    Y_target, \n",
    "    get_full_path(f\"../../model_saved/NN_save/using_mutual_information/{'_'.join(train_field)}_predict_{'_'.join(target_value)}_{str(datetime.now().date())}_using_{function_get.__name__}.pt\"), \n",
    "    super_param, \n",
    "    re_run)\n",
    "print(f\"{loss_NN=}\")\n",
    "print(f\"{pred_NN=}\")\n",
    "loss_RF, pred_RF, RF_model = predict_using_random_forest(X_train, Y_train, X_target, Y_target, bands_ix, super_param)\n",
    "print(f\"{loss_RF=}\")\n",
    "print(f\"{pred_RF=}\")\n",
    "loss_DT, pred_DT, DT_model = predict_using_decision_tree(X_train, Y_train, X_target, Y_target, bands_ix, super_param)\n",
    "print(f\"{loss_DT=}\")\n",
    "print(f\"{pred_DT=}\")"
   ]
  },
  {
   "cell_type": "code",
   "execution_count": null,
   "metadata": {},
   "outputs": [],
   "source": [
    "cloudpickle.register_pickle_by_value(common)\n",
    "with open(get_full_path(f\"../../model_saved/RF_save/{'_'.join(train_field)}_predict_{'_'.join(target_value)}_{str(datetime.now().date())}_using_{function_get.__name__}.pkl\"), \"wb\") as file:\n",
    "    cloudpickle.dump(RF_model, file)\n",
    "with open(get_full_path(f\"../../model_saved/DT_save/{'_'.join(train_field)}_predict_{'_'.join(target_value)}_{str(datetime.now().date())}_using_{function_get.__name__}.pkl\"), \"wb\") as file:\n",
    "    cloudpickle.dump(DT_model, file)"
   ]
  }
 ],
 "metadata": {
  "kernelspec": {
   "display_name": "venv",
   "language": "python",
   "name": "python3"
  },
  "language_info": {
   "codemirror_mode": {
    "name": "ipython",
    "version": 3
   },
   "file_extension": ".py",
   "mimetype": "text/x-python",
   "name": "python",
   "nbconvert_exporter": "python",
   "pygments_lexer": "ipython3",
   "version": "3.9.7"
  }
 },
 "nbformat": 4,
 "nbformat_minor": 2
}
