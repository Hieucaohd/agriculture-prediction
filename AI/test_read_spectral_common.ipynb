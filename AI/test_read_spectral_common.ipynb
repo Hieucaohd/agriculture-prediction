{
 "cells": [
  {
   "cell_type": "code",
   "execution_count": 1,
   "metadata": {},
   "outputs": [],
   "source": [
    "from common.read_spectral_common import (\n",
    "    data_df_13_09_2022, \n",
    "    calculate_matual_info_for_all, \n",
    "    generate_sample, create_X_train_Y_train, \n",
    "    mutual_info_regression, \n",
    "    get_max_bands, \n",
    "    get_bands_ix_from_mutual_info, \n",
    "    get_average_bands, \n",
    "    get_max_bands, \n",
    "    predict_using_neutral_network, \n",
    "    predict_using_random_forest, \n",
    "    predict_using_decision_tree,\n",
    "    get_full_path\n",
    ")\n",
    "import pickle"
   ]
  },
  {
   "cell_type": "code",
   "execution_count": 2,
   "metadata": {},
   "outputs": [
    {
     "data": {
      "text/plain": [
       "[(112, 0.27623511524969624),\n",
       " (103, 0.2571785840074927),\n",
       " (0, 0.2294156208175533),\n",
       " (43, 0.22696130152539995),\n",
       " (98, 0.21735152828796034),\n",
       " (108, 0.21266277710993453),\n",
       " (93, 0.20550910812833179),\n",
       " (113, 0.19861428932498226),\n",
       " (30, 0.19614600845455943),\n",
       " (107, 0.1918190947917937),\n",
       " (28, 0.18981687179173612),\n",
       " (95, 0.18057717731404788),\n",
       " (101, 0.17718811429156567),\n",
       " (104, 0.17579236254493757),\n",
       " (20, 0.16851228055680378),\n",
       " (90, 0.1646165483827966),\n",
       " (111, 0.15698708821720775),\n",
       " (27, 0.15655078733199046),\n",
       " (100, 0.14857573700165272),\n",
       " (99, 0.1423911633604904),\n",
       " (106, 0.14199682479408482),\n",
       " (19, 0.1363087629099793),\n",
       " (53, 0.12722690686044036),\n",
       " (114, 0.1266829645468568),\n",
       " (31, 0.12583557854360583),\n",
       " (118, 0.12406124381023087),\n",
       " (102, 0.12398909471999753),\n",
       " (8, 0.12386011019643917),\n",
       " (96, 0.11955383819473342),\n",
       " (70, 0.11933998406950641),\n",
       " (11, 0.11742086490140435),\n",
       " (73, 0.11281554429773255),\n",
       " (59, 0.11086515209569292),\n",
       " (72, 0.1077565044169817),\n",
       " (6, 0.10632666606900676),\n",
       " (74, 0.10572400772103574),\n",
       " (55, 0.10041787484307418),\n",
       " (97, 0.09955011064479047),\n",
       " (92, 0.09411957460257536),\n",
       " (75, 0.09248500512767288),\n",
       " (45, 0.09209052139598572),\n",
       " (109, 0.09120481865162278),\n",
       " (35, 0.08918414769367855),\n",
       " (39, 0.0849381950772079),\n",
       " (33, 0.08370409493915076),\n",
       " (46, 0.08347179278134176),\n",
       " (78, 0.07702599535042287),\n",
       " (91, 0.07523574360251617),\n",
       " (89, 0.07492094306219199),\n",
       " (23, 0.07164246495311355),\n",
       " (88, 0.07145636796771448),\n",
       " (85, 0.07126074650638925),\n",
       " (105, 0.06672143376834061),\n",
       " (87, 0.06434473323353096),\n",
       " (86, 0.06333665997055604),\n",
       " (2, 0.06148250939566502),\n",
       " (68, 0.061446321851936325),\n",
       " (12, 0.05718435529054089),\n",
       " (18, 0.05440455138222022),\n",
       " (69, 0.04995273551559132),\n",
       " (77, 0.049331117039994155),\n",
       " (66, 0.04576097986937233),\n",
       " (51, 0.043913803302247256),\n",
       " (94, 0.04271668373890014),\n",
       " (29, 0.0369945860226939),\n",
       " (32, 0.0351935614142298),\n",
       " (116, 0.03263457466513309),\n",
       " (16, 0.029370626777461162),\n",
       " (48, 0.026318783577966354),\n",
       " (58, 0.025981427122312883),\n",
       " (1, 0.0258117979120156),\n",
       " (84, 0.025082811422589835),\n",
       " (22, 0.02289548107370898),\n",
       " (76, 0.022736806106383067),\n",
       " (82, 0.022527017996698095),\n",
       " (67, 0.021991181300299978),\n",
       " (83, 0.02025584862649099),\n",
       " (56, 0.019458259385909393),\n",
       " (71, 0.018271629676982037),\n",
       " (42, 0.017082133457825055),\n",
       " (47, 0.016968996535683623),\n",
       " (57, 0.016620191045390698),\n",
       " (13, 0.01621666511941866),\n",
       " (34, 0.014486257929579693),\n",
       " (80, 0.013111366640257138),\n",
       " (5, 0.010354825150773017),\n",
       " (62, 0.010047381592679816),\n",
       " (21, 0.009159207958566729),\n",
       " (120, 0.007127267627028644),\n",
       " (44, 0.006986433918183987),\n",
       " (110, 0.005291029894482158),\n",
       " (61, 0.0026847263490559214),\n",
       " (79, 0.0007664536174543102),\n",
       " (3, 0.0),\n",
       " (4, 0.0),\n",
       " (7, 0.0),\n",
       " (9, 0.0),\n",
       " (10, 0.0),\n",
       " (14, 0.0),\n",
       " (15, 0.0),\n",
       " (17, 0.0),\n",
       " (24, 0.0),\n",
       " (25, 0.0),\n",
       " (26, 0.0),\n",
       " (36, 0.0),\n",
       " (37, 0.0),\n",
       " (38, 0.0),\n",
       " (40, 0.0),\n",
       " (41, 0.0),\n",
       " (49, 0.0),\n",
       " (50, 0.0),\n",
       " (52, 0.0),\n",
       " (54, 0.0),\n",
       " (60, 0.0),\n",
       " (63, 0.0),\n",
       " (64, 0.0),\n",
       " (65, 0.0),\n",
       " (81, 0.0),\n",
       " (115, 0.0),\n",
       " (117, 0.0),\n",
       " (119, 0.0),\n",
       " (121, 0.0)]"
      ]
     },
     "execution_count": 2,
     "metadata": {},
     "output_type": "execute_result"
    }
   ],
   "source": [
    "calculate_matual_info_for_all(data_df_13_09_2022, \"N\", \"J\", get_average_bands)"
   ]
  },
  {
   "cell_type": "code",
   "execution_count": 3,
   "metadata": {},
   "outputs": [],
   "source": [
    "bands_ix = get_bands_ix_from_mutual_info(data_df_13_09_2022, 0.1, \"N\", \"J\", get_average_bands)"
   ]
  },
  {
   "cell_type": "code",
   "execution_count": 4,
   "metadata": {},
   "outputs": [
    {
     "data": {
      "text/plain": [
       "37"
      ]
     },
     "execution_count": 4,
     "metadata": {},
     "output_type": "execute_result"
    }
   ],
   "source": [
    "len(bands_ix)"
   ]
  },
  {
   "cell_type": "code",
   "execution_count": 5,
   "metadata": {},
   "outputs": [],
   "source": [
    "# bands_ix = filter(lambda data: data < 100, bands_ix)"
   ]
  },
  {
   "cell_type": "code",
   "execution_count": 6,
   "metadata": {},
   "outputs": [],
   "source": [
    "bands_ix = list(bands_ix)"
   ]
  },
  {
   "cell_type": "code",
   "execution_count": 7,
   "metadata": {},
   "outputs": [
    {
     "data": {
      "text/plain": [
       "[0,\n",
       " 6,\n",
       " 8,\n",
       " 11,\n",
       " 19,\n",
       " 20,\n",
       " 27,\n",
       " 28,\n",
       " 30,\n",
       " 31,\n",
       " 43,\n",
       " 53,\n",
       " 55,\n",
       " 59,\n",
       " 70,\n",
       " 72,\n",
       " 73,\n",
       " 74,\n",
       " 90,\n",
       " 93,\n",
       " 95,\n",
       " 96,\n",
       " 98,\n",
       " 99,\n",
       " 100,\n",
       " 101,\n",
       " 102,\n",
       " 103,\n",
       " 104,\n",
       " 106,\n",
       " 107,\n",
       " 108,\n",
       " 111,\n",
       " 112,\n",
       " 113,\n",
       " 114,\n",
       " 118]"
      ]
     },
     "execution_count": 7,
     "metadata": {},
     "output_type": "execute_result"
    }
   ],
   "source": [
    "bands_ix"
   ]
  },
  {
   "cell_type": "code",
   "execution_count": 8,
   "metadata": {},
   "outputs": [
    {
     "data": {
      "text/plain": [
       "37"
      ]
     },
     "execution_count": 8,
     "metadata": {},
     "output_type": "execute_result"
    }
   ],
   "source": [
    "len(bands_ix)"
   ]
  },
  {
   "cell_type": "code",
   "execution_count": 12,
   "metadata": {},
   "outputs": [
    {
     "name": "stdout",
     "output_type": "stream",
     "text": [
      "loss_RF=2675.9491035503224\n",
      "pred_RF=array([4811.05920898, 5374.34563232, 5680.8998877 , 5691.38320557])\n",
      "loss_DT=1776.1696447151214\n",
      "pred_DT=array([3289.6484375 , 4832.38037109, 4605.5078125 , 5007.16357422])\n"
     ]
    }
   ],
   "source": [
    "target_value = \"N\"\n",
    "train_field = \"J\"\n",
    "sample = generate_sample(data_df_13_09_2022, bands_ix, target_value, train_field)\n",
    "X_train, Y_train = create_X_train_Y_train(sample, bands_ix)\n",
    "sample_target = generate_sample(data_df_13_09_2022, bands_ix, target_value, \"BC\")\n",
    "X_target, Y_target = create_X_train_Y_train(sample_target, bands_ix)\n",
    "super_param={\"lr\": 0.0001, \"weight_decay\": 1e-5, \"n_epochs\": 40000, \"stop_value\": 0.5}\n",
    "re_run = \"N\"\n",
    "# loss_NN, pred_NN = predict_using_neutral_network(X_train, Y_train, X_target, Y_target, get_full_path(\"../../model_saved/NN_save/test_nn_using_mutual_info_2.pt\"), super_param, re_run)\n",
    "# print(f\"{loss_NN=}\")\n",
    "# print(f\"{pred_NN=}\")\n",
    "loss_RF, pred_RF, RF_model = predict_using_random_forest(X_train, Y_train, X_target, Y_target, bands_ix, super_param)\n",
    "print(f\"{loss_RF=}\")\n",
    "print(f\"{pred_RF=}\")\n",
    "loss_DT, pred_DT, DT_model = predict_using_decision_tree(X_train, Y_train, X_target, Y_target, bands_ix, super_param)\n",
    "print(f\"{loss_DT=}\")\n",
    "print(f\"{pred_DT=}\")"
   ]
  },
  {
   "cell_type": "code",
   "execution_count": 20,
   "metadata": {},
   "outputs": [],
   "source": [
    "import cloudpickle"
   ]
  },
  {
   "cell_type": "code",
   "execution_count": 23,
   "metadata": {},
   "outputs": [],
   "source": [
    "import common"
   ]
  },
  {
   "cell_type": "code",
   "execution_count": 24,
   "metadata": {},
   "outputs": [],
   "source": [
    "cloudpickle.register_pickle_by_value(common)"
   ]
  },
  {
   "cell_type": "code",
   "execution_count": 25,
   "metadata": {},
   "outputs": [],
   "source": [
    "with open(get_full_path(\"../../model_saved/DT_save/J_model_predict_N_DT_24_02_2024_cloudpickle.pkl\"), \"wb\") as file:\n",
    "    cloudpickle.dump(DT_model, file)"
   ]
  },
  {
   "cell_type": "code",
   "execution_count": null,
   "metadata": {},
   "outputs": [],
   "source": []
  }
 ],
 "metadata": {
  "kernelspec": {
   "display_name": "venv",
   "language": "python",
   "name": "python3"
  },
  "language_info": {
   "codemirror_mode": {
    "name": "ipython",
    "version": 3
   },
   "file_extension": ".py",
   "mimetype": "text/x-python",
   "name": "python",
   "nbconvert_exporter": "python",
   "pygments_lexer": "ipython3",
   "version": "3.9.7"
  }
 },
 "nbformat": 4,
 "nbformat_minor": 2
}
