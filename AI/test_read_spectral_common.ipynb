{
 "cells": [
  {
   "cell_type": "code",
   "execution_count": 3,
   "metadata": {},
   "outputs": [],
   "source": [
    "from common.read_spectral_common import (\n",
    "    data_df_13_09_2022, \n",
    "    calculate_matual_info_for_all, \n",
    "    generate_sample, create_X_train_Y_train, \n",
    "    mutual_info_regression, \n",
    "    get_max_bands, \n",
    "    get_bands_ix_from_mutual_info, \n",
    "    get_average_bands, \n",
    "    get_max_bands, \n",
    "    predict_using_neutral_network, \n",
    "    predict_using_random_forest, \n",
    "    predict_using_decision_tree,\n",
    "    get_full_path\n",
    ")\n",
    "import pickle\n",
    "import cloudpickle\n",
    "import common"
   ]
  },
  {
   "cell_type": "code",
   "execution_count": 42,
   "metadata": {},
   "outputs": [],
   "source": [
    "target_value = \"P\"\n",
    "train_field = \"J\"\n",
    "function_get = get_max_bands"
   ]
  },
  {
   "cell_type": "code",
   "execution_count": 43,
   "metadata": {},
   "outputs": [
    {
     "data": {
      "text/plain": [
       "[(13, 0.34476814694154534),\n",
       " (113, 0.27076553920456004),\n",
       " (63, 0.2503564004130694),\n",
       " (15, 0.24668561216261153),\n",
       " (43, 0.24532113902806651),\n",
       " (55, 0.19976249743451424),\n",
       " (112, 0.1721536735289355),\n",
       " (70, 0.16826196666120374),\n",
       " (92, 0.14352892122154115),\n",
       " (20, 0.14047112741026835),\n",
       " (85, 0.128650822675489),\n",
       " (47, 0.12623866972079067),\n",
       " (38, 0.1203610799678474),\n",
       " (44, 0.11874371814946283),\n",
       " (72, 0.11680441823737153),\n",
       " (22, 0.11198387582323299),\n",
       " (16, 0.09666162554396385),\n",
       " (80, 0.08964126431696551),\n",
       " (101, 0.0862440919823868),\n",
       " (9, 0.08503155132196083),\n",
       " (90, 0.08390924295713909),\n",
       " (52, 0.07640562033428422),\n",
       " (2, 0.07133034242424019),\n",
       " (91, 0.06794871073378861),\n",
       " (19, 0.06704153804040702),\n",
       " (74, 0.05969571329362777),\n",
       " (28, 0.0523510733066499),\n",
       " (49, 0.0501310564799744),\n",
       " (14, 0.04156653107848518),\n",
       " (7, 0.03883849401144346),\n",
       " (104, 0.03750810422736395),\n",
       " (60, 0.03718405637105704),\n",
       " (29, 0.035779782559322904),\n",
       " (40, 0.03288236368943709),\n",
       " (59, 0.029140819360117476),\n",
       " (48, 0.027723235728830176),\n",
       " (25, 0.02617097942952995),\n",
       " (11, 0.025659937197719085),\n",
       " (64, 0.024541617990843978),\n",
       " (26, 0.023366843854085495),\n",
       " (35, 0.021855462043398166),\n",
       " (12, 0.01974395873698853),\n",
       " (1, 0.019134585623917122),\n",
       " (117, 0.018518518518517713),\n",
       " (121, 0.01690787426081486),\n",
       " (24, 0.016632974547967194),\n",
       " (71, 0.011045624429778744),\n",
       " (66, 0.010860130007571023),\n",
       " (95, 0.006702807258271992),\n",
       " (27, 0.005164672763481093),\n",
       " (78, 0.004004582021222891),\n",
       " (108, 0.002600802318070361),\n",
       " (81, 0.001918568036979984),\n",
       " (10, 0.0013852566760581553),\n",
       " (96, 0.000615962722434471),\n",
       " (0, 0.0),\n",
       " (3, 0.0),\n",
       " (4, 0.0),\n",
       " (5, 0.0),\n",
       " (6, 0.0),\n",
       " (8, 0.0),\n",
       " (17, 0.0),\n",
       " (18, 0.0),\n",
       " (21, 0.0),\n",
       " (23, 0.0),\n",
       " (30, 0.0),\n",
       " (31, 0.0),\n",
       " (32, 0.0),\n",
       " (33, 0.0),\n",
       " (34, 0.0),\n",
       " (36, 0.0),\n",
       " (37, 0.0),\n",
       " (39, 0.0),\n",
       " (41, 0.0),\n",
       " (42, 0.0),\n",
       " (45, 0.0),\n",
       " (46, 0.0),\n",
       " (50, 0.0),\n",
       " (51, 0.0),\n",
       " (53, 0.0),\n",
       " (54, 0.0),\n",
       " (56, 0.0),\n",
       " (57, 0.0),\n",
       " (58, 0.0),\n",
       " (61, 0.0),\n",
       " (62, 0.0),\n",
       " (65, 0.0),\n",
       " (67, 0.0),\n",
       " (68, 0.0),\n",
       " (69, 0.0),\n",
       " (73, 0.0),\n",
       " (75, 0.0),\n",
       " (76, 0.0),\n",
       " (77, 0.0),\n",
       " (79, 0.0),\n",
       " (82, 0.0),\n",
       " (83, 0.0),\n",
       " (84, 0.0),\n",
       " (86, 0.0),\n",
       " (87, 0.0),\n",
       " (88, 0.0),\n",
       " (89, 0.0),\n",
       " (93, 0.0),\n",
       " (94, 0.0),\n",
       " (97, 0.0),\n",
       " (98, 0.0),\n",
       " (99, 0.0),\n",
       " (100, 0.0),\n",
       " (102, 0.0),\n",
       " (103, 0.0),\n",
       " (105, 0.0),\n",
       " (106, 0.0),\n",
       " (107, 0.0),\n",
       " (109, 0.0),\n",
       " (110, 0.0),\n",
       " (111, 0.0),\n",
       " (114, 0.0),\n",
       " (115, 0.0),\n",
       " (116, 0.0),\n",
       " (118, 0.0),\n",
       " (119, 0.0),\n",
       " (120, 0.0)]"
      ]
     },
     "execution_count": 43,
     "metadata": {},
     "output_type": "execute_result"
    }
   ],
   "source": [
    "calculate_matual_info_for_all(data_df_13_09_2022, target_value, train_field, function_get)"
   ]
  },
  {
   "cell_type": "code",
   "execution_count": 44,
   "metadata": {},
   "outputs": [],
   "source": [
    "bands_ix = get_bands_ix_from_mutual_info(data_df_13_09_2022, 0.0, target_value, train_field, function_get)"
   ]
  },
  {
   "cell_type": "code",
   "execution_count": 45,
   "metadata": {},
   "outputs": [
    {
     "data": {
      "text/plain": [
       "55"
      ]
     },
     "execution_count": 45,
     "metadata": {},
     "output_type": "execute_result"
    }
   ],
   "source": [
    "len(bands_ix)"
   ]
  },
  {
   "cell_type": "code",
   "execution_count": 46,
   "metadata": {},
   "outputs": [],
   "source": [
    "# bands_ix = filter(lambda data: data < 100, bands_ix)"
   ]
  },
  {
   "cell_type": "code",
   "execution_count": 47,
   "metadata": {},
   "outputs": [],
   "source": [
    "bands_ix = list(bands_ix)"
   ]
  },
  {
   "cell_type": "code",
   "execution_count": 48,
   "metadata": {},
   "outputs": [
    {
     "data": {
      "text/plain": [
       "[1,\n",
       " 2,\n",
       " 7,\n",
       " 9,\n",
       " 10,\n",
       " 11,\n",
       " 12,\n",
       " 13,\n",
       " 14,\n",
       " 15,\n",
       " 16,\n",
       " 19,\n",
       " 20,\n",
       " 22,\n",
       " 24,\n",
       " 25,\n",
       " 26,\n",
       " 27,\n",
       " 28,\n",
       " 29,\n",
       " 35,\n",
       " 38,\n",
       " 40,\n",
       " 43,\n",
       " 44,\n",
       " 47,\n",
       " 48,\n",
       " 49,\n",
       " 52,\n",
       " 55,\n",
       " 59,\n",
       " 60,\n",
       " 63,\n",
       " 64,\n",
       " 66,\n",
       " 70,\n",
       " 71,\n",
       " 72,\n",
       " 74,\n",
       " 78,\n",
       " 80,\n",
       " 81,\n",
       " 85,\n",
       " 90,\n",
       " 91,\n",
       " 92,\n",
       " 95,\n",
       " 96,\n",
       " 101,\n",
       " 104,\n",
       " 108,\n",
       " 112,\n",
       " 113,\n",
       " 117,\n",
       " 121]"
      ]
     },
     "execution_count": 48,
     "metadata": {},
     "output_type": "execute_result"
    }
   ],
   "source": [
    "bands_ix"
   ]
  },
  {
   "cell_type": "code",
   "execution_count": 49,
   "metadata": {},
   "outputs": [
    {
     "data": {
      "text/plain": [
       "55"
      ]
     },
     "execution_count": 49,
     "metadata": {},
     "output_type": "execute_result"
    }
   ],
   "source": [
    "len(bands_ix)"
   ]
  },
  {
   "cell_type": "code",
   "execution_count": 54,
   "metadata": {},
   "outputs": [
    {
     "name": "stdout",
     "output_type": "stream",
     "text": [
      "loss_RF=718.4719881319826\n",
      "pred_RF=array([6423.56674316, 6374.04442871, 6483.91185059, 5950.4877002 ])\n",
      "loss_DT=553.0430511831178\n",
      "pred_DT=array([6273.33447266, 6772.11767578, 6772.11767578, 6082.79882812])\n"
     ]
    }
   ],
   "source": [
    "\n",
    "sample = generate_sample(data_df_13_09_2022, bands_ix, target_value, train_field)\n",
    "X_train, Y_train = create_X_train_Y_train(sample, bands_ix)\n",
    "sample_target = generate_sample(data_df_13_09_2022, bands_ix, target_value, \"BC\")\n",
    "X_target, Y_target = create_X_train_Y_train(sample_target, bands_ix)\n",
    "super_param={\"lr\": 0.0001, \"weight_decay\": 1e-5, \"n_epochs\": 40000, \"stop_value\": 0.5}\n",
    "re_run = \"N\"\n",
    "# loss_NN, pred_NN = predict_using_neutral_network(X_train, Y_train, X_target, Y_target, get_full_path(\"../../model_saved/NN_save/test_nn_using_mutual_info_2.pt\"), super_param, re_run)\n",
    "# print(f\"{loss_NN=}\")\n",
    "# print(f\"{pred_NN=}\")\n",
    "loss_RF, pred_RF, RF_model = predict_using_random_forest(X_train, Y_train, X_target, Y_target, bands_ix, super_param)\n",
    "print(f\"{loss_RF=}\")\n",
    "print(f\"{pred_RF=}\")\n",
    "loss_DT, pred_DT, DT_model = predict_using_decision_tree(X_train, Y_train, X_target, Y_target, bands_ix, super_param)\n",
    "print(f\"{loss_DT=}\")\n",
    "print(f\"{pred_DT=}\")"
   ]
  },
  {
   "cell_type": "code",
   "execution_count": 51,
   "metadata": {},
   "outputs": [],
   "source": [
    "cloudpickle.register_pickle_by_value(common)"
   ]
  },
  {
   "cell_type": "code",
   "execution_count": 52,
   "metadata": {},
   "outputs": [],
   "source": [
    "with open(get_full_path(\"../../model_saved/DT_save/J_model_predict_N_DT_24_02_2024_cloudpickle.pkl\"), \"wb\") as file:\n",
    "    cloudpickle.dump(DT_model, file)"
   ]
  },
  {
   "cell_type": "code",
   "execution_count": null,
   "metadata": {},
   "outputs": [],
   "source": []
  }
 ],
 "metadata": {
  "kernelspec": {
   "display_name": "venv",
   "language": "python",
   "name": "python3"
  },
  "language_info": {
   "codemirror_mode": {
    "name": "ipython",
    "version": 3
   },
   "file_extension": ".py",
   "mimetype": "text/x-python",
   "name": "python",
   "nbconvert_exporter": "python",
   "pygments_lexer": "ipython3",
   "version": "3.9.7"
  }
 },
 "nbformat": 4,
 "nbformat_minor": 2
}
