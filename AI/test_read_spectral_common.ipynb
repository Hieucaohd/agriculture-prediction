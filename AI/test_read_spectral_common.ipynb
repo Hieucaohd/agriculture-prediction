{
 "cells": [
  {
   "cell_type": "code",
   "execution_count": 84,
   "metadata": {},
   "outputs": [],
   "source": [
    "\n",
    "from common.read_spectral_common import (\n",
    "    data_df_13_09_2022, \n",
    "    calculate_mutual_info_for_all, \n",
    "    generate_sample, create_X_train_Y_train, \n",
    "    mutual_info_regression, \n",
    "    get_max_bands, \n",
    "    get_bands_ix_from_mutual_info, \n",
    "    get_average_bands, \n",
    "    get_max_bands, \n",
    "    get_min_bands,\n",
    "    predict_using_neutral_network, \n",
    "    predict_using_random_forest, \n",
    "    predict_using_decision_tree,\n",
    "    get_full_path,\n",
    "    load_sklearn_model_to_file_by_cloudpickle,\n",
    ")\n",
    "import matplotlib.pyplot as plt\n",
    "import pickle\n",
    "import cloudpickle\n",
    "import common\n",
    "from sklearn import tree\n",
    "from sklearn.metrics import mean_squared_error\n",
    "import numpy as np\n",
    "from datetime import datetime\n",
    "import os\n",
    "from openpyxl import load_workbook\n",
    "from openpyxl.utils.dataframe import dataframe_to_rows\n",
    "import pandas as pd"
   ]
  },
  {
   "cell_type": "code",
   "execution_count": 85,
   "metadata": {},
   "outputs": [],
   "source": [
    "\n",
    "target_value = \"K\"\n",
    "train_field = \"J\"\n",
    "function_get = get_max_bands"
   ]
  },
  {
   "cell_type": "code",
   "execution_count": 86,
   "metadata": {},
   "outputs": [
    {
     "data": {
      "text/plain": [
       "[(1, 0.24651027303286766),\n",
       " (13, 0.21845936791881027),\n",
       " (55, 0.21177624907364834),\n",
       " (56, 0.186240614371878),\n",
       " (21, 0.1533841487652312),\n",
       " (99, 0.15201779721687592),\n",
       " (104, 0.15046498601681568),\n",
       " (93, 0.14217077591500704),\n",
       " (50, 0.14091867735390462),\n",
       " (105, 0.1310928005778611),\n",
       " (16, 0.12407044818194146),\n",
       " (57, 0.11816304739558747),\n",
       " (65, 0.11737043021490301),\n",
       " (4, 0.11376824242761963),\n",
       " (109, 0.11285797629376315),\n",
       " (3, 0.10722048381778926),\n",
       " (48, 0.10314675416854069),\n",
       " (102, 0.10140777393877087),\n",
       " (49, 0.10110722803911143),\n",
       " (62, 0.09082995057605725),\n",
       " (43, 0.08698831122798634),\n",
       " (106, 0.08019899337636183),\n",
       " (24, 0.0794861046717239),\n",
       " (7, 0.07867188467607988),\n",
       " (53, 0.06845287191584015),\n",
       " (97, 0.06839688844626712),\n",
       " (61, 0.06693656247443514),\n",
       " (34, 0.06659534856994842),\n",
       " (80, 0.06588255455938352),\n",
       " (94, 0.06572603811057487),\n",
       " (110, 0.06444676041525677),\n",
       " (9, 0.06341230597330405),\n",
       " (108, 0.06209019864140197),\n",
       " (92, 0.05955676733503035),\n",
       " (12, 0.05785941866040156),\n",
       " (37, 0.056204134874615175),\n",
       " (11, 0.052795215639533044),\n",
       " (20, 0.05140266922489056),\n",
       " (73, 0.04805737007855937),\n",
       " (91, 0.04742207510949159),\n",
       " (14, 0.04658591568023285),\n",
       " (112, 0.045412030309169626),\n",
       " (35, 0.040333639887221384),\n",
       " (64, 0.04020081271500153),\n",
       " (77, 0.03310451328036201),\n",
       " (96, 0.03064518222554291),\n",
       " (71, 0.0275252079587589),\n",
       " (121, 0.02524120759414794),\n",
       " (69, 0.024966419184632827),\n",
       " (45, 0.023027479810505902),\n",
       " (47, 0.0228238912147658),\n",
       " (98, 0.02162905971701834),\n",
       " (15, 0.02130902323380246),\n",
       " (72, 0.021189493554455208),\n",
       " (87, 0.019785300635117853),\n",
       " (114, 0.01837652604498441),\n",
       " (10, 0.017870304463800668),\n",
       " (76, 0.01638728086067953),\n",
       " (29, 0.01485722829816627),\n",
       " (111, 0.013685890015868729),\n",
       " (27, 0.013542817376557714),\n",
       " (101, 0.013177050918549149),\n",
       " (60, 0.011675836659005068),\n",
       " (117, 0.009259259259258412),\n",
       " (66, 0.007436036269249602),\n",
       " (63, 0.004657205061096015),\n",
       " (38, 0.0042250815540576525),\n",
       " (83, 0.001144441138672736),\n",
       " (44, 0.0002803320151447686),\n",
       " (0, 0.0),\n",
       " (2, 0.0),\n",
       " (5, 0.0),\n",
       " (6, 0.0),\n",
       " (8, 0.0),\n",
       " (17, 0.0),\n",
       " (18, 0.0),\n",
       " (19, 0.0),\n",
       " (22, 0.0),\n",
       " (23, 0.0),\n",
       " (25, 0.0),\n",
       " (26, 0.0),\n",
       " (28, 0.0),\n",
       " (30, 0.0),\n",
       " (31, 0.0),\n",
       " (32, 0.0),\n",
       " (33, 0.0),\n",
       " (36, 0.0),\n",
       " (39, 0.0),\n",
       " (40, 0.0),\n",
       " (41, 0.0),\n",
       " (42, 0.0),\n",
       " (46, 0.0),\n",
       " (51, 0.0),\n",
       " (52, 0.0),\n",
       " (54, 0.0),\n",
       " (58, 0.0),\n",
       " (59, 0.0),\n",
       " (67, 0.0),\n",
       " (68, 0.0),\n",
       " (70, 0.0),\n",
       " (74, 0.0),\n",
       " (75, 0.0),\n",
       " (78, 0.0),\n",
       " (79, 0.0),\n",
       " (81, 0.0),\n",
       " (82, 0.0),\n",
       " (84, 0.0),\n",
       " (85, 0.0),\n",
       " (86, 0.0),\n",
       " (88, 0.0),\n",
       " (89, 0.0),\n",
       " (90, 0.0),\n",
       " (95, 0.0),\n",
       " (100, 0.0),\n",
       " (103, 0.0),\n",
       " (107, 0.0),\n",
       " (113, 0.0),\n",
       " (115, 0.0),\n",
       " (116, 0.0),\n",
       " (118, 0.0),\n",
       " (119, 0.0),\n",
       " (120, 0.0)]"
      ]
     },
     "execution_count": 86,
     "metadata": {},
     "output_type": "execute_result"
    }
   ],
   "source": [
    "calculate_mutual_info_for_all(data_df_13_09_2022, target_value, train_field, function_get)"
   ]
  },
  {
   "cell_type": "code",
   "execution_count": 87,
   "metadata": {},
   "outputs": [],
   "source": [
    "bands_ix = get_bands_ix_from_mutual_info(data_df_13_09_2022, 0, target_value, train_field, function_get)"
   ]
  },
  {
   "cell_type": "code",
   "execution_count": 88,
   "metadata": {},
   "outputs": [
    {
     "data": {
      "text/plain": [
       "69"
      ]
     },
     "execution_count": 88,
     "metadata": {},
     "output_type": "execute_result"
    }
   ],
   "source": [
    "len(bands_ix)"
   ]
  },
  {
   "cell_type": "code",
   "execution_count": 89,
   "metadata": {},
   "outputs": [],
   "source": [
    "# bands_ix = filter(lambda data: data < 100, bands_ix)"
   ]
  },
  {
   "cell_type": "code",
   "execution_count": 90,
   "metadata": {},
   "outputs": [],
   "source": [
    "bands_ix = list(bands_ix)"
   ]
  },
  {
   "cell_type": "code",
   "execution_count": 91,
   "metadata": {},
   "outputs": [
    {
     "data": {
      "text/plain": [
       "[1,\n",
       " 3,\n",
       " 4,\n",
       " 7,\n",
       " 9,\n",
       " 10,\n",
       " 11,\n",
       " 12,\n",
       " 13,\n",
       " 14,\n",
       " 15,\n",
       " 16,\n",
       " 20,\n",
       " 21,\n",
       " 24,\n",
       " 27,\n",
       " 29,\n",
       " 34,\n",
       " 35,\n",
       " 37,\n",
       " 38,\n",
       " 43,\n",
       " 44,\n",
       " 45,\n",
       " 47,\n",
       " 48,\n",
       " 49,\n",
       " 50,\n",
       " 53,\n",
       " 55,\n",
       " 56,\n",
       " 57,\n",
       " 60,\n",
       " 61,\n",
       " 62,\n",
       " 63,\n",
       " 64,\n",
       " 65,\n",
       " 66,\n",
       " 69,\n",
       " 71,\n",
       " 72,\n",
       " 73,\n",
       " 76,\n",
       " 77,\n",
       " 80,\n",
       " 83,\n",
       " 87,\n",
       " 91,\n",
       " 92,\n",
       " 93,\n",
       " 94,\n",
       " 96,\n",
       " 97,\n",
       " 98,\n",
       " 99,\n",
       " 101,\n",
       " 102,\n",
       " 104,\n",
       " 105,\n",
       " 106,\n",
       " 108,\n",
       " 109,\n",
       " 110,\n",
       " 111,\n",
       " 112,\n",
       " 114,\n",
       " 117,\n",
       " 121]"
      ]
     },
     "execution_count": 91,
     "metadata": {},
     "output_type": "execute_result"
    }
   ],
   "source": [
    "bands_ix"
   ]
  },
  {
   "cell_type": "code",
   "execution_count": 92,
   "metadata": {},
   "outputs": [
    {
     "data": {
      "text/plain": [
       "69"
      ]
     },
     "execution_count": 92,
     "metadata": {},
     "output_type": "execute_result"
    }
   ],
   "source": [
    "len(bands_ix)"
   ]
  },
  {
   "cell_type": "code",
   "execution_count": null,
   "metadata": {},
   "outputs": [],
   "source": [
    "date_now = datetime.now().strftime(\"%Y-%m-%d-%H-%M-%S\")\n",
    "NN_file_path = get_full_path(f\"../../model_saved/NN_save/NN_object/{'_'.join(train_field)}_predict_{'_'.join(target_value)}_{date_now}_using_{function_get.__name__}.pkl\")\n",
    "RF_file_path = get_full_path(f\"../../model_saved/RF_save/{'_'.join(train_field)}_predict_{'_'.join(target_value)}_{date_now}_using_{function_get.__name__}.pkl\")\n",
    "DT_file_path = get_full_path(f\"../../model_saved/DT_save/{'_'.join(train_field)}_predict_{'_'.join(target_value)}_{date_now}_using_{function_get.__name__}.pkl\")"
   ]
  },
  {
   "cell_type": "code",
   "execution_count": null,
   "metadata": {},
   "outputs": [],
   "source": [
    "sample = generate_sample(data_df_13_09_2022, bands_ix, target_value, train_field)\n",
    "X_train, Y_train = create_X_train_Y_train(sample, bands_ix)\n",
    "sample_target = generate_sample(data_df_13_09_2022, bands_ix, target_value, \"BC\")\n",
    "X_target, Y_target = create_X_train_Y_train(sample_target, bands_ix)\n",
    "super_param={\"lr\": 0.0001, \"weight_decay\": 1e-5, \"n_epochs\": 40000, \"stop_value\": 130}\n",
    "re_run = \"Y\"\n",
    "loss_NN, pred_NN, NN_model = predict_using_neutral_network(\n",
    "    X_train, \n",
    "    Y_train, \n",
    "    X_target, \n",
    "    Y_target, \n",
    "    bands_ix,\n",
    "    NN_file_path, \n",
    "    super_param, \n",
    "    re_run)\n",
    "print(f\"{loss_NN=}\")\n",
    "print(f\"{pred_NN=}\")\n",
    "loss_RF, pred_RF, RF_model = predict_using_random_forest(X_train, Y_train, X_target, Y_target, bands_ix, super_param)\n",
    "print(f\"{loss_RF=}\")\n",
    "print(f\"{pred_RF=}\")\n",
    "loss_DT, pred_DT, DT_model = predict_using_decision_tree(X_train, Y_train, X_target, Y_target, bands_ix, super_param)\n",
    "print(f\"{loss_DT=}\")\n",
    "print(f\"{pred_DT=}\")"
   ]
  },
  {
   "cell_type": "code",
   "execution_count": 93,
   "metadata": {},
   "outputs": [
    {
     "name": "stdout",
     "output_type": "stream",
     "text": [
      "Save NN object to: D:\\code\\model_saved\\NN_save\\NN_object\\J_predict_K_2024-03-05-09-13-30_using_get_max_bands.pkl\n",
      "Save RF object to: D:\\code\\model_saved\\RF_save\\J_predict_K_2024-03-05-09-13-30_using_get_max_bands.pkl\n",
      "Save DT object to: D:\\code\\model_saved\\DT_save\\J_predict_K_2024-03-05-09-13-30_using_get_max_bands.pkl\n"
     ]
    }
   ],
   "source": [
    "cloudpickle.register_pickle_by_value(common)\n",
    "\n",
    "with open(NN_file_path, \"wb\") as file:\n",
    "    cloudpickle.dump(NN_model, file)\n",
    "    print(f\"Save NN object to: {NN_file_path}\")\n",
    "with open(RF_file_path, \"wb\") as file:\n",
    "    cloudpickle.dump(RF_model, file)\n",
    "    print(f\"Save RF object to: {RF_file_path}\")\n",
    "with open(DT_file_path, \"wb\") as file:\n",
    "    cloudpickle.dump(DT_model, file)\n",
    "    print(f\"Save DT object to: {DT_file_path}\")"
   ]
  },
  {
   "cell_type": "code",
   "execution_count": 94,
   "metadata": {},
   "outputs": [],
   "source": [
    "avarage_target_value = np.average(Y_target)\n",
    "loss_NN = float(loss_NN)\n",
    "df_report = pd.DataFrame(\n",
    "    {\n",
    "        \"date_time\": [datetime.now()],\n",
    "        \"train_field\": [str(train_field)],\n",
    "        \"target_value\": [str(target_value)],\n",
    "        \"bands_ix\": [str(bands_ix)],\n",
    "        \"total_band\": [len(bands_ix)],\n",
    "        \"function_get\": [function_get.__name__],\n",
    "        \"loss_NN\": [loss_NN],\n",
    "        \"% loss_NN\": [loss_NN / avarage_target_value * 100],\n",
    "        \"loss_RF\": [loss_RF],\n",
    "        \"% loss_RF\": [loss_RF / avarage_target_value * 100],\n",
    "        \"loss_DT\": [loss_DT],\n",
    "        \"% loss_DT\": [loss_DT / avarage_target_value * 100],\n",
    "        \"average_target_value\": [avarage_target_value],\n",
    "        \"File save NN\": [NN_file_path],\n",
    "        \"File save RF\": [RF_file_path],\n",
    "        \"File save DT\": [DT_file_path],\n",
    "    }\n",
    ")"
   ]
  },
  {
   "cell_type": "code",
   "execution_count": 95,
   "metadata": {},
   "outputs": [
    {
     "data": {
      "text/html": [
       "<div>\n",
       "<style scoped>\n",
       "    .dataframe tbody tr th:only-of-type {\n",
       "        vertical-align: middle;\n",
       "    }\n",
       "\n",
       "    .dataframe tbody tr th {\n",
       "        vertical-align: top;\n",
       "    }\n",
       "\n",
       "    .dataframe thead th {\n",
       "        text-align: right;\n",
       "    }\n",
       "</style>\n",
       "<table border=\"1\" class=\"dataframe\">\n",
       "  <thead>\n",
       "    <tr style=\"text-align: right;\">\n",
       "      <th></th>\n",
       "      <th>date_time</th>\n",
       "      <th>train_field</th>\n",
       "      <th>target_value</th>\n",
       "      <th>bands_ix</th>\n",
       "      <th>total_band</th>\n",
       "      <th>function_get</th>\n",
       "      <th>loss_NN</th>\n",
       "      <th>% loss_NN</th>\n",
       "      <th>loss_RF</th>\n",
       "      <th>% loss_RF</th>\n",
       "      <th>loss_DT</th>\n",
       "      <th>% loss_DT</th>\n",
       "      <th>average_target_value</th>\n",
       "      <th>File save NN</th>\n",
       "      <th>File save RF</th>\n",
       "      <th>File save DT</th>\n",
       "    </tr>\n",
       "  </thead>\n",
       "  <tbody>\n",
       "    <tr>\n",
       "      <th>0</th>\n",
       "      <td>2024-03-05 09:13:30.371898</td>\n",
       "      <td>J</td>\n",
       "      <td>K</td>\n",
       "      <td>[1, 3, 4, 7, 9, 10, 11, 12, 13, 14, 15, 16, 20...</td>\n",
       "      <td>69</td>\n",
       "      <td>get_max_bands</td>\n",
       "      <td>3330.085693</td>\n",
       "      <td>26.403851</td>\n",
       "      <td>4494.703527</td>\n",
       "      <td>35.637967</td>\n",
       "      <td>5116.632876</td>\n",
       "      <td>40.56917</td>\n",
       "      <td>12612.121094</td>\n",
       "      <td>D:\\code\\model_saved\\NN_save\\NN_object\\J_predic...</td>\n",
       "      <td>D:\\code\\model_saved\\RF_save\\J_predict_K_2024-0...</td>\n",
       "      <td>D:\\code\\model_saved\\DT_save\\J_predict_K_2024-0...</td>\n",
       "    </tr>\n",
       "  </tbody>\n",
       "</table>\n",
       "</div>"
      ],
      "text/plain": [
       "                   date_time train_field target_value  \\\n",
       "0 2024-03-05 09:13:30.371898           J            K   \n",
       "\n",
       "                                            bands_ix  total_band  \\\n",
       "0  [1, 3, 4, 7, 9, 10, 11, 12, 13, 14, 15, 16, 20...          69   \n",
       "\n",
       "    function_get      loss_NN  % loss_NN      loss_RF  % loss_RF      loss_DT  \\\n",
       "0  get_max_bands  3330.085693  26.403851  4494.703527  35.637967  5116.632876   \n",
       "\n",
       "   % loss_DT  average_target_value  \\\n",
       "0   40.56917          12612.121094   \n",
       "\n",
       "                                        File save NN  \\\n",
       "0  D:\\code\\model_saved\\NN_save\\NN_object\\J_predic...   \n",
       "\n",
       "                                        File save RF  \\\n",
       "0  D:\\code\\model_saved\\RF_save\\J_predict_K_2024-0...   \n",
       "\n",
       "                                        File save DT  \n",
       "0  D:\\code\\model_saved\\DT_save\\J_predict_K_2024-0...  "
      ]
     },
     "execution_count": 95,
     "metadata": {},
     "output_type": "execute_result"
    }
   ],
   "source": [
    "df_report"
   ]
  },
  {
   "cell_type": "code",
   "execution_count": 96,
   "metadata": {},
   "outputs": [],
   "source": [
    "def append_df_to_excel(df: pd.DataFrame, file_path, sheet_name=\"Sheet1\"):\n",
    "    if not os.path.exists(file_path):\n",
    "        df.to_excel(\n",
    "            file_path,\n",
    "            sheet_name=sheet_name,\n",
    "            index=False,\n",
    "            header=True\n",
    "        )\n",
    "        return\n",
    "    \n",
    "    wb = load_workbook(file_path)\n",
    "    ws = wb[sheet_name]\n",
    "    for r in dataframe_to_rows(df, index=False, header=False):\n",
    "        ws.append(r)\n",
    "    wb.save(file_path)"
   ]
  },
  {
   "cell_type": "code",
   "execution_count": 97,
   "metadata": {},
   "outputs": [
    {
     "name": "stdout",
     "output_type": "stream",
     "text": [
      "SUCCESS: DATA IS WRITED TO FILE D:\\code\\report\\agriculture_report.xlsx\n"
     ]
    }
   ],
   "source": [
    "try:\n",
    "    report_file_path = get_full_path(\"../../report/agriculture_report.xlsx\")\n",
    "    sheet_name = \"Sheet1\"\n",
    "\n",
    "    append_df_to_excel(df_report, report_file_path, sheet_name)\n",
    "    print(f\"SUCCESS: DATA IS WRITED TO FILE {report_file_path}\")\n",
    "except PermissionError as err:\n",
    "    print(f\"ERROR: YOU ARE OPENNING FILE {report_file_path}\")"
   ]
  }
 ],
 "metadata": {
  "kernelspec": {
   "display_name": "venv",
   "language": "python",
   "name": "python3"
  },
  "language_info": {
   "codemirror_mode": {
    "name": "ipython",
    "version": 3
   },
   "file_extension": ".py",
   "mimetype": "text/x-python",
   "name": "python",
   "nbconvert_exporter": "python",
   "pygments_lexer": "ipython3",
   "version": "3.11.5"
  }
 },
 "nbformat": 4,
 "nbformat_minor": 2
}
