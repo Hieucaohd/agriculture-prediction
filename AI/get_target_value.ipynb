{
 "cells": [
  {
   "cell_type": "code",
   "execution_count": 12,
   "metadata": {},
   "outputs": [],
   "source": [
    "\n",
    "from common.read_spectral_common import (\n",
    "    data_df_13_09_2022, \n",
    "    calculate_mutual_info_for_all, \n",
    "    generate_sample, create_X_train_Y_train, \n",
    "    mutual_info_regression, \n",
    "    get_max_bands, \n",
    "    get_bands_ix_from_mutual_info, \n",
    "    get_average_bands, \n",
    "    get_max_bands, \n",
    "    get_min_bands,\n",
    "    predict_using_neutral_network, \n",
    "    predict_using_random_forest, \n",
    "    predict_using_decision_tree,\n",
    "    get_full_path,\n",
    "    load_sklearn_model_to_file_by_cloudpickle,\n",
    ")\n",
    "import matplotlib.pyplot as plt\n",
    "import pickle\n",
    "import cloudpickle\n",
    "import common\n",
    "from sklearn import tree\n",
    "from sklearn.metrics import mean_squared_error\n",
    "import numpy as np\n",
    "from datetime import datetime\n",
    "import os\n",
    "from openpyxl import load_workbook\n",
    "from openpyxl.utils.dataframe import dataframe_to_rows\n",
    "import pandas as pd\n",
    "from torch import nn\n",
    "import torch"
   ]
  },
  {
   "cell_type": "code",
   "execution_count": 3,
   "metadata": {},
   "outputs": [],
   "source": [
    "\n",
    "target_value = \"P\"\n",
    "train_field = \"T\""
   ]
  },
  {
   "cell_type": "code",
   "execution_count": 4,
   "metadata": {},
   "outputs": [],
   "source": [
    "bands_ix = [1, 2, 3]"
   ]
  },
  {
   "cell_type": "code",
   "execution_count": 5,
   "metadata": {},
   "outputs": [],
   "source": [
    "sample = generate_sample(data_df_13_09_2022, bands_ix, target_value, train_field)\n",
    "X_train, Y_train = create_X_train_Y_train(sample, bands_ix)\n",
    "sample_target = generate_sample(data_df_13_09_2022, bands_ix, target_value, \"BC\")\n",
    "X_target, Y_target = create_X_train_Y_train(sample_target, bands_ix)\n"
   ]
  },
  {
   "cell_type": "code",
   "execution_count": 6,
   "metadata": {},
   "outputs": [
    {
     "data": {
      "text/html": [
       "<div>\n",
       "<style scoped>\n",
       "    .dataframe tbody tr th:only-of-type {\n",
       "        vertical-align: middle;\n",
       "    }\n",
       "\n",
       "    .dataframe tbody tr th {\n",
       "        vertical-align: top;\n",
       "    }\n",
       "\n",
       "    .dataframe thead th {\n",
       "        text-align: right;\n",
       "    }\n",
       "</style>\n",
       "<table border=\"1\" class=\"dataframe\">\n",
       "  <thead>\n",
       "    <tr style=\"text-align: right;\">\n",
       "      <th></th>\n",
       "      <th>type_of_field</th>\n",
       "      <th>East.1</th>\n",
       "      <th>North.1</th>\n",
       "      <th>Elevation.1</th>\n",
       "      <th>P conc. (mg/kg).1</th>\n",
       "      <th>K conc. (mg/kg).1</th>\n",
       "      <th>N conc. (mg/kg).1</th>\n",
       "      <th>Chlorophyll-a.1</th>\n",
       "      <th>row_num</th>\n",
       "      <th>col_num</th>\n",
       "    </tr>\n",
       "  </thead>\n",
       "  <tbody>\n",
       "    <tr>\n",
       "      <th>1</th>\n",
       "      <td>T1.1</td>\n",
       "      <td>530605.915</td>\n",
       "      <td>2355788.377</td>\n",
       "      <td>15.193</td>\n",
       "      <td>6098.182181</td>\n",
       "      <td>12505.992809</td>\n",
       "      <td>4311.970060</td>\n",
       "      <td>35.8</td>\n",
       "      <td>2777</td>\n",
       "      <td>3548</td>\n",
       "    </tr>\n",
       "    <tr>\n",
       "      <th>2</th>\n",
       "      <td>T1.2</td>\n",
       "      <td>530601.735</td>\n",
       "      <td>2355788.448</td>\n",
       "      <td>15.178</td>\n",
       "      <td>5037.174349</td>\n",
       "      <td>12338.677355</td>\n",
       "      <td>4787.270920</td>\n",
       "      <td>34.0</td>\n",
       "      <td>2775</td>\n",
       "      <td>3409</td>\n",
       "    </tr>\n",
       "    <tr>\n",
       "      <th>3</th>\n",
       "      <td>T1.3</td>\n",
       "      <td>530597.008</td>\n",
       "      <td>2355787.118</td>\n",
       "      <td>15.206</td>\n",
       "      <td>6471.319695</td>\n",
       "      <td>14923.786602</td>\n",
       "      <td>5286.813480</td>\n",
       "      <td>34.9</td>\n",
       "      <td>2819</td>\n",
       "      <td>3251</td>\n",
       "    </tr>\n",
       "    <tr>\n",
       "      <th>4</th>\n",
       "      <td>T2.1</td>\n",
       "      <td>530593.342</td>\n",
       "      <td>2355789.827</td>\n",
       "      <td>15.215</td>\n",
       "      <td>6433.340016</td>\n",
       "      <td>17184.242181</td>\n",
       "      <td>3066.571650</td>\n",
       "      <td>29.8</td>\n",
       "      <td>2729</td>\n",
       "      <td>3129</td>\n",
       "    </tr>\n",
       "    <tr>\n",
       "      <th>5</th>\n",
       "      <td>T2.2</td>\n",
       "      <td>530591.652</td>\n",
       "      <td>2355794.783</td>\n",
       "      <td>15.236</td>\n",
       "      <td>5679.671869</td>\n",
       "      <td>13274.309724</td>\n",
       "      <td>3433.145680</td>\n",
       "      <td>36.1</td>\n",
       "      <td>2563</td>\n",
       "      <td>3073</td>\n",
       "    </tr>\n",
       "    <tr>\n",
       "      <th>...</th>\n",
       "      <td>...</td>\n",
       "      <td>...</td>\n",
       "      <td>...</td>\n",
       "      <td>...</td>\n",
       "      <td>...</td>\n",
       "      <td>...</td>\n",
       "      <td>...</td>\n",
       "      <td>...</td>\n",
       "      <td>...</td>\n",
       "      <td>...</td>\n",
       "    </tr>\n",
       "    <tr>\n",
       "      <th>72</th>\n",
       "      <td>J12.3</td>\n",
       "      <td>530582.155</td>\n",
       "      <td>2355781.790</td>\n",
       "      <td>15.238</td>\n",
       "      <td>7009.292566</td>\n",
       "      <td>16528.776978</td>\n",
       "      <td>7556.516150</td>\n",
       "      <td>38.6</td>\n",
       "      <td>2997</td>\n",
       "      <td>2756</td>\n",
       "    </tr>\n",
       "    <tr>\n",
       "      <th>74</th>\n",
       "      <td>BC2</td>\n",
       "      <td>530553.718</td>\n",
       "      <td>2355758.342</td>\n",
       "      <td>15.224</td>\n",
       "      <td>5885.628743</td>\n",
       "      <td>14264.471058</td>\n",
       "      <td>2265.424250</td>\n",
       "      <td>33.2</td>\n",
       "      <td>3778</td>\n",
       "      <td>1808</td>\n",
       "    </tr>\n",
       "    <tr>\n",
       "      <th>75</th>\n",
       "      <td>BC3</td>\n",
       "      <td>530591.520</td>\n",
       "      <td>2355732.444</td>\n",
       "      <td>15.206</td>\n",
       "      <td>7505.289421</td>\n",
       "      <td>16167.664671</td>\n",
       "      <td>3268.614069</td>\n",
       "      <td>40.0</td>\n",
       "      <td>4641</td>\n",
       "      <td>3068</td>\n",
       "    </tr>\n",
       "    <tr>\n",
       "      <th>76</th>\n",
       "      <td>BC4</td>\n",
       "      <td>530622.015</td>\n",
       "      <td>2355776.121</td>\n",
       "      <td>15.086</td>\n",
       "      <td>6279.883674</td>\n",
       "      <td>10340.954673</td>\n",
       "      <td>2980.889693</td>\n",
       "      <td>41.8</td>\n",
       "      <td>3185</td>\n",
       "      <td>4085</td>\n",
       "    </tr>\n",
       "    <tr>\n",
       "      <th>77</th>\n",
       "      <td>BC5</td>\n",
       "      <td>530619.755</td>\n",
       "      <td>2355797.647</td>\n",
       "      <td>15.229</td>\n",
       "      <td>6624.348175</td>\n",
       "      <td>9675.391095</td>\n",
       "      <td>2460.532560</td>\n",
       "      <td>35.0</td>\n",
       "      <td>2468</td>\n",
       "      <td>4010</td>\n",
       "    </tr>\n",
       "  </tbody>\n",
       "</table>\n",
       "<p>76 rows × 10 columns</p>\n",
       "</div>"
      ],
      "text/plain": [
       "   type_of_field      East.1      North.1  Elevation.1  P conc. (mg/kg).1  \\\n",
       "1           T1.1  530605.915  2355788.377       15.193        6098.182181   \n",
       "2           T1.2  530601.735  2355788.448       15.178        5037.174349   \n",
       "3           T1.3  530597.008  2355787.118       15.206        6471.319695   \n",
       "4           T2.1  530593.342  2355789.827       15.215        6433.340016   \n",
       "5           T2.2  530591.652  2355794.783       15.236        5679.671869   \n",
       "..           ...         ...          ...          ...                ...   \n",
       "72         J12.3  530582.155  2355781.790       15.238        7009.292566   \n",
       "74           BC2  530553.718  2355758.342       15.224        5885.628743   \n",
       "75           BC3  530591.520  2355732.444       15.206        7505.289421   \n",
       "76           BC4  530622.015  2355776.121       15.086        6279.883674   \n",
       "77           BC5  530619.755  2355797.647       15.229        6624.348175   \n",
       "\n",
       "    K conc. (mg/kg).1  N conc. (mg/kg).1  Chlorophyll-a.1 row_num col_num  \n",
       "1        12505.992809        4311.970060             35.8    2777    3548  \n",
       "2        12338.677355        4787.270920             34.0    2775    3409  \n",
       "3        14923.786602        5286.813480             34.9    2819    3251  \n",
       "4        17184.242181        3066.571650             29.8    2729    3129  \n",
       "5        13274.309724        3433.145680             36.1    2563    3073  \n",
       "..                ...                ...              ...     ...     ...  \n",
       "72       16528.776978        7556.516150             38.6    2997    2756  \n",
       "74       14264.471058        2265.424250             33.2    3778    1808  \n",
       "75       16167.664671        3268.614069             40.0    4641    3068  \n",
       "76       10340.954673        2980.889693             41.8    3185    4085  \n",
       "77        9675.391095        2460.532560             35.0    2468    4010  \n",
       "\n",
       "[76 rows x 10 columns]"
      ]
     },
     "execution_count": 6,
     "metadata": {},
     "output_type": "execute_result"
    }
   ],
   "source": [
    "data_df_13_09_2022"
   ]
  },
  {
   "cell_type": "code",
   "execution_count": 7,
   "metadata": {},
   "outputs": [
    {
     "data": {
      "text/plain": [
       "tensor([[5885.6289],\n",
       "        [7505.2896],\n",
       "        [6279.8838],\n",
       "        [6624.3481]])"
      ]
     },
     "execution_count": 7,
     "metadata": {},
     "output_type": "execute_result"
    }
   ],
   "source": [
    "Y_target"
   ]
  },
  {
   "cell_type": "code",
   "execution_count": 21,
   "metadata": {},
   "outputs": [],
   "source": [
    "y_true = torch.tensor([1., 2., 3., 4.])\n",
    "y_pred = torch.tensor([5., 1000., 7., 8.])"
   ]
  },
  {
   "cell_type": "code",
   "execution_count": 22,
   "metadata": {},
   "outputs": [],
   "source": [
    "loss_fn = nn.MSELoss()"
   ]
  },
  {
   "cell_type": "code",
   "execution_count": 23,
   "metadata": {},
   "outputs": [
    {
     "data": {
      "text/plain": [
       "tensor(499.0120)"
      ]
     },
     "execution_count": 23,
     "metadata": {},
     "output_type": "execute_result"
    }
   ],
   "source": [
    "np.sqrt(loss_fn(y_true, y_pred))"
   ]
  },
  {
   "cell_type": "code",
   "execution_count": 24,
   "metadata": {},
   "outputs": [
    {
     "data": {
      "text/plain": [
       "499.01202"
      ]
     },
     "execution_count": 24,
     "metadata": {},
     "output_type": "execute_result"
    }
   ],
   "source": [
    "np.sqrt(mean_squared_error(y_true, y_pred))"
   ]
  },
  {
   "cell_type": "code",
   "execution_count": null,
   "metadata": {},
   "outputs": [],
   "source": []
  }
 ],
 "metadata": {
  "kernelspec": {
   "display_name": "venv",
   "language": "python",
   "name": "python3"
  },
  "language_info": {
   "codemirror_mode": {
    "name": "ipython",
    "version": 3
   },
   "file_extension": ".py",
   "mimetype": "text/x-python",
   "name": "python",
   "nbconvert_exporter": "python",
   "pygments_lexer": "ipython3",
   "version": "3.11.5"
  }
 },
 "nbformat": 4,
 "nbformat_minor": 2
}
